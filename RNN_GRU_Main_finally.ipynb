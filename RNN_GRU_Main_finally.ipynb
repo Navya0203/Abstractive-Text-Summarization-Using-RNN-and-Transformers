{
  "nbformat": 4,
  "nbformat_minor": 0,
  "metadata": {
    "colab": {
      "provenance": [],
      "machine_shape": "hm",
      "gpuType": "L4"
    },
    "kernelspec": {
      "name": "python3",
      "display_name": "Python 3"
    },
    "accelerator": "GPU"
  },
  "cells": [
    {
      "cell_type": "markdown",
      "source": [
        "# Abstractive Text Summarization Using RNN"
      ],
      "metadata": {
        "id": "f2xyt2QDQ0Tv"
      }
    },
    {
      "cell_type": "code",
      "metadata": {
        "id": "kVFe6ZtPNycx"
      },
      "source": [
        "from IPython.display import HTML, display\n",
        "\n",
        "def set_css():\n",
        "  display(HTML('''\n",
        "  <style>\n",
        "    pre {\n",
        "        white-space: pre-wrap;\n",
        "    }\n",
        "  </style>\n",
        "  '''))\n",
        "get_ipython().events.register('pre_run_cell', set_css)"
      ],
      "execution_count": null,
      "outputs": []
    },
    {
      "cell_type": "markdown",
      "metadata": {
        "id": "X8RELhnh3uYa"
      },
      "source": [
        "## Module Imports"
      ]
    },
    {
      "cell_type": "code",
      "metadata": {
        "colab": {
          "base_uri": "https://localhost:8080/",
          "height": 410
        },
        "id": "N3f5SfJj3xD7",
        "outputId": "9d811710-40b5-4858-e9e6-4322bc056374"
      },
      "source": [
        "import torch\n",
        "import torchvision\n",
        "import torch.nn as nn\n",
        "import torch.nn.functional as F\n",
        "import torch.optim as optim\n",
        "import numpy as np\n",
        "import random\n",
        "import os\n",
        "import nltk\n",
        "nltk.download('punkt')\n",
        "nltk.download('stopwords')\n",
        "from nltk.corpus import stopwords\n",
        "from nltk.tokenize import word_tokenize\n",
        "from matplotlib import pyplot as plt\n",
        "from torch.nn.utils.rnn import pad_sequence\n",
        "import glob\n",
        "import itertools\n",
        "import pickle\n",
        "import re\n",
        "import pandas as pd\n",
        "from tqdm import tqdm\n",
        "from sklearn.model_selection import train_test_split\n",
        "!pip install rouge-score"
      ],
      "execution_count": null,
      "outputs": [
        {
          "output_type": "display_data",
          "data": {
            "text/plain": [
              "<IPython.core.display.HTML object>"
            ],
            "text/html": [
              "\n",
              "  <style>\n",
              "    pre {\n",
              "        white-space: pre-wrap;\n",
              "    }\n",
              "  </style>\n",
              "  "
            ]
          },
          "metadata": {}
        },
        {
          "output_type": "stream",
          "name": "stderr",
          "text": [
            "[nltk_data] Downloading package punkt to /root/nltk_data...\n",
            "[nltk_data]   Unzipping tokenizers/punkt.zip.\n",
            "[nltk_data] Downloading package stopwords to /root/nltk_data...\n",
            "[nltk_data]   Unzipping corpora/stopwords.zip.\n"
          ]
        },
        {
          "output_type": "stream",
          "name": "stdout",
          "text": [
            "Collecting rouge-score\n",
            "  Downloading rouge_score-0.1.2.tar.gz (17 kB)\n",
            "  Preparing metadata (setup.py) ... \u001b[?25l\u001b[?25hdone\n",
            "Requirement already satisfied: absl-py in /usr/local/lib/python3.10/dist-packages (from rouge-score) (1.4.0)\n",
            "Requirement already satisfied: nltk in /usr/local/lib/python3.10/dist-packages (from rouge-score) (3.8.1)\n",
            "Requirement already satisfied: numpy in /usr/local/lib/python3.10/dist-packages (from rouge-score) (1.25.2)\n",
            "Requirement already satisfied: six>=1.14.0 in /usr/local/lib/python3.10/dist-packages (from rouge-score) (1.16.0)\n",
            "Requirement already satisfied: click in /usr/local/lib/python3.10/dist-packages (from nltk->rouge-score) (8.1.7)\n",
            "Requirement already satisfied: joblib in /usr/local/lib/python3.10/dist-packages (from nltk->rouge-score) (1.4.2)\n",
            "Requirement already satisfied: regex>=2021.8.3 in /usr/local/lib/python3.10/dist-packages (from nltk->rouge-score) (2023.12.25)\n",
            "Requirement already satisfied: tqdm in /usr/local/lib/python3.10/dist-packages (from nltk->rouge-score) (4.66.4)\n",
            "Building wheels for collected packages: rouge-score\n",
            "  Building wheel for rouge-score (setup.py) ... \u001b[?25l\u001b[?25hdone\n",
            "  Created wheel for rouge-score: filename=rouge_score-0.1.2-py3-none-any.whl size=24933 sha256=36e444ae5ad6abd591b3b709609fb28efd5f4a6b99cf286e7f30a31297532d47\n",
            "  Stored in directory: /root/.cache/pip/wheels/5f/dd/89/461065a73be61a532ff8599a28e9beef17985c9e9c31e541b4\n",
            "Successfully built rouge-score\n",
            "Installing collected packages: rouge-score\n",
            "Successfully installed rouge-score-0.1.2\n"
          ]
        }
      ]
    },
    {
      "cell_type": "markdown",
      "source": [
        "Mounting the goodle drive"
      ],
      "metadata": {
        "id": "teJ-iJmmQ9eR"
      }
    },
    {
      "cell_type": "code",
      "source": [
        "from google.colab import drive\n",
        "drive.mount('/content/drive')"
      ],
      "metadata": {
        "colab": {
          "base_uri": "https://localhost:8080/",
          "height": 35
        },
        "id": "7teKJA2P45iy",
        "outputId": "132a01cd-25de-4fa5-c9f1-d31e9691145f"
      },
      "execution_count": null,
      "outputs": [
        {
          "output_type": "display_data",
          "data": {
            "text/plain": [
              "<IPython.core.display.HTML object>"
            ],
            "text/html": [
              "\n",
              "  <style>\n",
              "    pre {\n",
              "        white-space: pre-wrap;\n",
              "    }\n",
              "  </style>\n",
              "  "
            ]
          },
          "metadata": {}
        },
        {
          "output_type": "stream",
          "name": "stdout",
          "text": [
            "Mounted at /content/drive\n"
          ]
        }
      ]
    },
    {
      "cell_type": "markdown",
      "source": [
        "# Read Data and Data Preprocessing"
      ],
      "metadata": {
        "id": "u9Kdv0HHRBca"
      }
    },
    {
      "cell_type": "code",
      "source": [
        "train_path = '/content/drive/MyDrive/DLProject/cnn_dailymail/train.csv'\n",
        "test_path = '/content/drive/MyDrive/DLProject/cnn_dailymail/test.csv'\n",
        "val_path = '/content/drive/MyDrive/DLProject/cnn_dailymail/validation.csv'\n",
        "\n",
        "# Load datasets\n",
        "train_data = pd.read_csv(train_path)\n",
        "test_data = pd.read_csv(test_path)\n",
        "val_data = pd.read_csv(val_path)"
      ],
      "metadata": {
        "colab": {
          "base_uri": "https://localhost:8080/",
          "height": 17
        },
        "id": "2xLULWYt44nd",
        "outputId": "17d82b39-0b5c-490a-88e7-889bc73bc441"
      },
      "execution_count": null,
      "outputs": [
        {
          "output_type": "display_data",
          "data": {
            "text/plain": [
              "<IPython.core.display.HTML object>"
            ],
            "text/html": [
              "\n",
              "  <style>\n",
              "    pre {\n",
              "        white-space: pre-wrap;\n",
              "    }\n",
              "  </style>\n",
              "  "
            ]
          },
          "metadata": {}
        }
      ]
    },
    {
      "cell_type": "code",
      "source": [
        "# Splitting train data\n",
        "X_Train = train_data['article'].values[:100000]\n",
        "Y_Train = train_data['highlights'].values[:100000]\n",
        "\n",
        "# Splitting test data\n",
        "X_Test = test_data['article'].values\n",
        "Y_Test = test_data['highlights'].values\n",
        "\n",
        "# Splitting validation data\n",
        "X_Val = val_data['article'].values\n",
        "Y_Val = val_data['highlights'].values"
      ],
      "metadata": {
        "colab": {
          "base_uri": "https://localhost:8080/",
          "height": 17
        },
        "id": "BEqMLByJ5ixs",
        "outputId": "865d80b8-12a8-4fc3-c875-f07eeb106291"
      },
      "execution_count": null,
      "outputs": [
        {
          "output_type": "display_data",
          "data": {
            "text/plain": [
              "<IPython.core.display.HTML object>"
            ],
            "text/html": [
              "\n",
              "  <style>\n",
              "    pre {\n",
              "        white-space: pre-wrap;\n",
              "    }\n",
              "  </style>\n",
              "  "
            ]
          },
          "metadata": {}
        }
      ]
    },
    {
      "cell_type": "markdown",
      "metadata": {
        "id": "2K_PprI331d6"
      },
      "source": [
        "## Constants\n",
        "\n",
        "Settign the basic constants here that will be golbally used across the program"
      ]
    },
    {
      "cell_type": "code",
      "metadata": {
        "colab": {
          "base_uri": "https://localhost:8080/",
          "height": 35
        },
        "id": "z-_Di8K832w4",
        "outputId": "31d96866-21d7-4101-ee7a-7b11b1c3a83c"
      },
      "source": [
        "drive_prefix = '/content/drive/MyDrive/DLProject/cnn_dailymail/'\n",
        "\n",
        "\n",
        "# STOP_WORDS = set(stopwords.words('english'))\n",
        "STOP_WORDS = set()\n",
        "EMB_SIZE = 300\n",
        "GLOVE_EMB = '/content/drive/My Drive/DLProject/glove.6B.300d.txt'\n",
        "BATCH_SIZE = 32\n",
        "EPSILON = 0.5 # for deciding between feeding (model's output OR target) as input\n",
        "\n",
        "START_CHAR = 'starttoken'\n",
        "END_CHAR = 'endtoken'\n",
        "PAD_CHAR = 'padtoken'\n",
        "\n",
        "MAX_ARTICLE_LEN = 300 # the article can have at most 300 tokens\n",
        "MAX_DECODER_OUTPUT = 100 # labels can have at most 100 tokens\n",
        "\n",
        "# NN Hyper-parameters\n",
        "E_HIDDEN_DIM = 200\n",
        "D_HIDDEN_DIM = 200\n",
        "\n",
        "EP = 4400\n",
        "PRINT_EVERY_EP = 100\n",
        "SAVE_MODEL_EVERY_EP = 5000\n",
        "FORCE_CREATE_DICT = True # force to recreate the word features from scratch\n",
        "\n",
        "\n",
        "device = torch.device(\"cuda\" if torch.cuda.is_available() else \"cpu\")\n",
        "print(device)\n",
        "torch.cuda.empty_cache()"
      ],
      "execution_count": null,
      "outputs": [
        {
          "output_type": "display_data",
          "data": {
            "text/plain": [
              "<IPython.core.display.HTML object>"
            ],
            "text/html": [
              "\n",
              "  <style>\n",
              "    pre {\n",
              "        white-space: pre-wrap;\n",
              "    }\n",
              "  </style>\n",
              "  "
            ]
          },
          "metadata": {}
        },
        {
          "output_type": "stream",
          "name": "stdout",
          "text": [
            "cuda\n"
          ]
        }
      ]
    },
    {
      "cell_type": "markdown",
      "metadata": {
        "id": "3Dz0tnzBdsxD"
      },
      "source": [
        "## Helper Functions\n",
        "\n",
        "- `clean_text(s)`: Cleans the input text by converting it to lowercase, removing specified HTML tags, unwanted characters, and punctuation, and standardizing whitespace.\n",
        "- `create_word_vec(input_text, input_label, force_create)`: Creates word embeddings from pre-trained GloVe vectors for unique tokens found in `input_text` and `input_label`, managing dictionaries for word-to-index and index-to-word mappings, and handling embedding file storage.\n",
        "- `sentence_to_idx(sentence, word_to_idx)`: Converts a sentence into a list of indices based on a provided word-to-index dictionary.\n",
        "- `decontracted(text)`: Processes text by expanding contractions (e.g., turning \"can't\" into \"cannot\") and cleaning up non-alphanumeric characters.\n",
        "- `pre_process(column, max_len)`: Pre-processes a column of text data by cleaning, reducing each entry to a specified maximum length, and converting to lowercase.\n",
        "- `zeroPadding(l, fillvalue=PAD_CHAR)`: Pads a list of sequences to the length of the longest sequence using a specified padding character.\n",
        "- `binaryMatrix(l, value=PAD_CHAR)`: Creates a binary matrix for a list of sequences, where each position is 1 if the token is not the padding character and 0 otherwise.\n",
        "- `plot(train_loss, val_loss)`: Plots training and validation loss over time, providing a visual representation of the model's learning progress."
      ]
    },
    {
      "cell_type": "code",
      "metadata": {
        "id": "3MU93iEl0rI8",
        "colab": {
          "base_uri": "https://localhost:8080/",
          "height": 17
        },
        "outputId": "b6d3a41f-17a8-496c-b5da-f696392af2f8"
      },
      "source": [
        "def clean_text(s):\n",
        "    s = s.lower().strip()\n",
        "    s = s.replace('<t>', '').replace('</t>', '').replace('\\n', '')\n",
        "    s = s.replace('-lrb-', '').replace('-rrb-', '')\n",
        "    s = re.sub(r'\\([^)]*\\)', '', s)\n",
        "    s = re.sub('\"','', s)\n",
        "    s = re.sub(r\"'s\\b\",\"\",s)\n",
        "    s = re.sub(\"[^a-zA-Z]\", \" \", s)\n",
        "    # s = re.sub(r\"([.!?])\", r\" \\1\", s)\n",
        "    # s = re.sub(r\"[^a-zA-Z.!?]+\", r\" \", s)\n",
        "    return s\n",
        "\n",
        "\n",
        "def create_word_vec(input_text, input_label, force_create):\n",
        "    word_idx_dict = {} # { word : the index of that word in the dictionary}\n",
        "    idx_word_dict = {} # { index of word : word }\n",
        "\n",
        "    # 1. Create mapping between words and the corresponding embedding values\n",
        "    embed_file_path = drive_prefix + f'{EMB_SIZE}d_embed_dict'\n",
        "    if os.path.exists(embed_file_path) and not force_create:\n",
        "        print('Embedding dictionary exists, loading from file...')\n",
        "        embedding_dict = pickle.load(open(embed_file_path, 'rb'))\n",
        "    else:\n",
        "        embedding_dict = {}\n",
        "\n",
        "        for line in glove:\n",
        "            tokens = line.split()\n",
        "            embedding_dict[tokens[0]] = np.array(tokens[1:], dtype='float32')\n",
        "        pickle.dump(embedding_dict, open(embed_file_path, 'wb'))\n",
        "        print('Saved embedding dictionary')\n",
        "\n",
        "    # 2. Tokenize the input_text and labels\n",
        "    if os.path.exists(drive_prefix + 'train_word_idx_dict') and not force_create:\n",
        "        print('Word-to-index dictionary exists, loading from file...')\n",
        "        word_idx_dict = pickle.load(open(drive_prefix + 'train_word_idx_dict', 'rb'))\n",
        "    if os.path.exists(drive_prefix + 'train_idx_word_dict') and not force_create:\n",
        "        print('Index-to-word dictionary exists, loading from file...')\n",
        "        idx_word_dict = pickle.load(open(drive_prefix + 'train_idx_word_dict', 'rb'))\n",
        "    else:\n",
        "        unique_tokens = set([])\n",
        "        for line in input_text:\n",
        "            unique_tokens = unique_tokens.union(word_tokenize(line))\n",
        "        for line in input_label:\n",
        "            unique_tokens = unique_tokens.union(word_tokenize(line))\n",
        "\n",
        "        for token in unique_tokens:\n",
        "            word_idx_dict[token] = len(word_idx_dict)\n",
        "\n",
        "        # 2.1 Add in the special tokens to the dictionary, note that the START_CHAR and END_CHAR have been added\n",
        "        # during the preprocessing stage\n",
        "        word_idx_dict[PAD_CHAR] = len(word_idx_dict)\n",
        "\n",
        "        idx_word_dict = dict(zip(word_idx_dict.values(), word_idx_dict.keys()))\n",
        "\n",
        "    # 3. Build the word vector for all the words in our dictionary\n",
        "    if os.path.exists(drive_prefix + 'train_word_vector') and not force_create:\n",
        "        print('Word Vector exists, loading from file...')\n",
        "        word_vector = pickle.load(open(drive_prefix + 'train_word_vector', 'rb'))\n",
        "    else:\n",
        "        word_vector = []\n",
        "        for idx, token in idx_word_dict.items():\n",
        "            if token in embedding_dict:\n",
        "                word_vector.append(embedding_dict[token])\n",
        "            # Append the special tokens to the word vector and assign random values\n",
        "            elif token in [START_CHAR, END_CHAR, PAD_CHAR]:\n",
        "                word_vector.append(np.random.normal(0, 1, EMB_SIZE))\n",
        "            # if the token doesn't have an embedding, we set to 0\n",
        "            else:\n",
        "                word_vector.append(np.zeros([EMB_SIZE]))\n",
        "\n",
        "    ## Save the dictionaries\n",
        "    pickle.dump(word_idx_dict, open(drive_prefix + 'train_word_idx_dict', 'wb'))\n",
        "    pickle.dump(idx_word_dict, open(drive_prefix + 'train_idx_word_dict', 'wb'))\n",
        "    pickle.dump(word_vector, open(drive_prefix + 'train_word_vector', 'wb'))\n",
        "\n",
        "    # The index in word_vec corresponds to the article index in the original X_Test array\n",
        "    return np.array(word_vector), word_idx_dict, idx_word_dict\n",
        "\n",
        "def sentence_to_idx(sentence, word_to_idx):\n",
        "    tokens = word_tokenize(sentence)\n",
        "    return [word_to_idx[token] for token in tokens if token in word_to_idx]\n",
        "\n",
        "def decontracted(text):\n",
        "    '''Clean text by removing unnecessary characters and altering the format of words.'''\n",
        "    text = text.lower()\n",
        "    text = re.sub(r\"i'm\", \"i am\", text)\n",
        "    text = re.sub(r\"he's\", \"he is\", text)\n",
        "    text = re.sub(r\"she's\", \"she is\", text)\n",
        "    text = re.sub(r\"it's\", \"it is\", text)\n",
        "    text = re.sub(r\"that's\", \"that is\", text)\n",
        "    text = re.sub(r\"what's\", \"that is\", text)\n",
        "    text = re.sub(r\"where's\", \"where is\", text)\n",
        "    text = re.sub(r\"how's\", \"how is\", text)\n",
        "    text = re.sub(r\"\\'ll\", \" will\", text)\n",
        "    text = re.sub(r\"\\'ve\", \" have\", text)\n",
        "    text = re.sub(r\"\\'re\", \" are\", text)\n",
        "    text = re.sub(r\"\\'d\", \" would\", text)\n",
        "    text = re.sub(r\"\\'re\", \" are\", text)\n",
        "    text = re.sub(r\"won't\", \"will not\", text)\n",
        "    text = re.sub(r\"can't\", \"cannot\", text)\n",
        "    text = re.sub(r\"n't\", \" not\", text)\n",
        "    text = re.sub(r\"n'\", \"ng\", text)\n",
        "    text = re.sub(r\"'bout\", \"about\", text)\n",
        "    text = re.sub(r\"'til\", \"until\", text)\n",
        "    text = re.sub(r\"[-()\\\"#/@;:<>{}`+=~|.!?,]\", \"\", text)\n",
        "    return text\n",
        "\n",
        "def pre_process(column, max_len):\n",
        "    preprocessed_text = []\n",
        "    # tqdm is for printing the status bar\n",
        "    for sentence in tqdm(column.astype(str)):\n",
        "        sent = decontracted(sentence)\n",
        "        sent = sent.replace('\\\\r', ' ')\n",
        "        sent = sent.replace('\\\\\"', ' ')\n",
        "        sent = sent.replace('\\\\n', ' ')\n",
        "        sent = re.sub(\"^\\d+\\s|\\s\\d+\\s|\\s\\d+$\", \" \", sent)\n",
        "        sent = re.sub('[^A-Za-z0-9]+', ' ', sent)\n",
        "        sent=re.sub('<[^>]*>', '', sent)\n",
        "        # trim longer articles\n",
        "        sent = sent.lower().strip()\n",
        "        sent = ' '.join(sent.split()[:max_len])\n",
        "        preprocessed_text.append(sent)\n",
        "    return preprocessed_text\n",
        "\n",
        "## TODO: REFERENCE\n",
        "def zeroPadding(l, fillvalue=PAD_CHAR):\n",
        "    return list(itertools.zip_longest(*l, fillvalue=fillvalue))\n",
        "\n",
        "def binaryMatrix(l, value=PAD_CHAR):\n",
        "    m = []\n",
        "    for i, seq in enumerate(l):\n",
        "        m.append([])\n",
        "        for token in seq:\n",
        "            if token == PAD_CHAR:\n",
        "                m[i].append(0)\n",
        "            else:\n",
        "                m[i].append(1)\n",
        "    return m\n",
        "\n",
        "def plot(train_loss, val_loss):\n",
        "    plt.plot(train_loss, label='Train')\n",
        "    plt.plot(val_loss, label='Val')\n",
        "    plt.title('Training vs Validation Loss')\n",
        "    plt.xlabel('Episodes')\n",
        "    plt.ylabel('Loss')\n",
        "    plt.legend()\n",
        "    plt.show()"
      ],
      "execution_count": null,
      "outputs": [
        {
          "output_type": "display_data",
          "data": {
            "text/plain": [
              "<IPython.core.display.HTML object>"
            ],
            "text/html": [
              "\n",
              "  <style>\n",
              "    pre {\n",
              "        white-space: pre-wrap;\n",
              "    }\n",
              "  </style>\n",
              "  "
            ]
          },
          "metadata": {}
        }
      ]
    },
    {
      "cell_type": "markdown",
      "source": [
        "Reading the glove embeddings"
      ],
      "metadata": {
        "id": "-OL8o5HeU2md"
      }
    },
    {
      "cell_type": "code",
      "source": [
        "\n",
        "with open(GLOVE_EMB, 'r', encoding='utf-8') as f:\n",
        "    glove = f.readlines()"
      ],
      "metadata": {
        "colab": {
          "base_uri": "https://localhost:8080/",
          "height": 17
        },
        "id": "b8IhA-AF5YIh",
        "outputId": "0db155b4-94f4-48b0-f9d2-c2dc2d6b3620"
      },
      "execution_count": null,
      "outputs": [
        {
          "output_type": "display_data",
          "data": {
            "text/plain": [
              "<IPython.core.display.HTML object>"
            ],
            "text/html": [
              "\n",
              "  <style>\n",
              "    pre {\n",
              "        white-space: pre-wrap;\n",
              "    }\n",
              "  </style>\n",
              "  "
            ]
          },
          "metadata": {}
        }
      ]
    },
    {
      "cell_type": "code",
      "metadata": {
        "colab": {
          "base_uri": "https://localhost:8080/",
          "height": 125
        },
        "id": "3aMqKff98jaE",
        "outputId": "c0168790-b166-4b49-d075-3fcf1f23b3f4"
      },
      "source": [
        "#sanity check\n",
        "X_Test[0]"
      ],
      "execution_count": null,
      "outputs": [
        {
          "output_type": "display_data",
          "data": {
            "text/plain": [
              "<IPython.core.display.HTML object>"
            ],
            "text/html": [
              "\n",
              "  <style>\n",
              "    pre {\n",
              "        white-space: pre-wrap;\n",
              "    }\n",
              "  </style>\n",
              "  "
            ]
          },
          "metadata": {}
        },
        {
          "output_type": "execute_result",
          "data": {
            "text/plain": [
              "\"Ever noticed how plane seats appear to be getting smaller and smaller? With increasing numbers of people taking to the skies, some experts are questioning if having such packed out planes is putting passengers at risk. They say that the shrinking space on aeroplanes is not only uncomfortable - it's putting our health and safety in danger. More than squabbling over the arm rest, shrinking space on planes putting our health and safety in danger? This week, a U.S consumer advisory group set up by the Department of Transportation said at a public hearing that while the government is happy to set standards for animals flying on planes, it doesn't stipulate a minimum amount of space for humans. 'In a world where animals have more rights to space and food than humans,' said Charlie Leocha, consumer representative on the committee.\\xa0'It is time that the DOT and FAA take a stand for humane treatment of passengers.' But could crowding on planes lead to more serious issues than fighting for space in the overhead lockers, crashing elbows and seat back kicking? Tests conducted by the FAA use planes with a 31 inch pitch, a standard which on some airlines has decreased . Many economy seats on United Airlines have 30 inches of room, while some airlines offer as little as 28 inches . Cynthia Corbertt, a human factors researcher with the Federal Aviation Administration, that it conducts tests on how quickly passengers can leave a plane. But these tests are conducted using planes with 31 inches between each row of seats, a standard which on some airlines has decreased, reported the Detroit News. The distance between two seats from one point on a seat to the same point on the seat behind it is known as the pitch. While most airlines stick to a pitch of 31 inches or above, some fall below this. While United Airlines has 30 inches of space, Gulf Air economy seats have between 29 and 32 inches, Air Asia offers 29 inches and Spirit Airlines offers just 28 inches. British Airways has a seat pitch of 31 inches, while easyJet has 29 inches, Thomson's short haul seat pitch is 28 inches, and Virgin Atlantic's is 30-31.\""
            ],
            "application/vnd.google.colaboratory.intrinsic+json": {
              "type": "string"
            }
          },
          "metadata": {},
          "execution_count": 9
        }
      ]
    },
    {
      "cell_type": "code",
      "metadata": {
        "colab": {
          "base_uri": "https://localhost:8080/",
          "height": 88
        },
        "id": "q-FBHCVHirKK",
        "outputId": "321bdab4-ffc8-40f5-8343-1bb02ae0e279"
      },
      "source": [
        "#Train and Validation split\n",
        "X_Test = pre_process(np.array(X_Test), max_len=MAX_ARTICLE_LEN)\n",
        "Y_Test = pre_process(np.array(Y_Test), max_len=MAX_DECODER_OUTPUT)\n",
        "Y_Test = list(map(lambda x: f\"{START_CHAR} {x} {END_CHAR}\", Y_Test))\n",
        "\n",
        "X_Test, X_Val, Y_Test, Y_Val = train_test_split(X_Test, Y_Test, test_size=0.3, random_state=23, shuffle=True)\n",
        "print(f'\\nTotal # of stories: {len(X_Test)}')"
      ],
      "execution_count": null,
      "outputs": [
        {
          "output_type": "display_data",
          "data": {
            "text/plain": [
              "<IPython.core.display.HTML object>"
            ],
            "text/html": [
              "\n",
              "  <style>\n",
              "    pre {\n",
              "        white-space: pre-wrap;\n",
              "    }\n",
              "  </style>\n",
              "  "
            ]
          },
          "metadata": {}
        },
        {
          "output_type": "stream",
          "name": "stderr",
          "text": [
            "100%|██████████| 70000/70000 [00:18<00:00, 3753.89it/s]\n",
            "100%|██████████| 70000/70000 [00:04<00:00, 15731.65it/s]"
          ]
        },
        {
          "output_type": "stream",
          "name": "stdout",
          "text": [
            "\n",
            "Total # of stories: 4200\n"
          ]
        },
        {
          "output_type": "stream",
          "name": "stderr",
          "text": [
            "\n"
          ]
        }
      ]
    },
    {
      "cell_type": "code",
      "metadata": {
        "colab": {
          "base_uri": "https://localhost:8080/",
          "height": 35
        },
        "id": "AThgmFdrpGX0",
        "outputId": "2fd0b077-0fd8-43bd-bb66-d17fe0907c3c"
      },
      "source": [
        "max(list(map(len, X_Test)))"
      ],
      "execution_count": null,
      "outputs": [
        {
          "output_type": "display_data",
          "data": {
            "text/plain": [
              "<IPython.core.display.HTML object>"
            ],
            "text/html": [
              "\n",
              "  <style>\n",
              "    pre {\n",
              "        white-space: pre-wrap;\n",
              "    }\n",
              "  </style>\n",
              "  "
            ]
          },
          "metadata": {}
        },
        {
          "output_type": "execute_result",
          "data": {
            "text/plain": [
              "2121"
            ]
          },
          "metadata": {},
          "execution_count": 15
        }
      ]
    },
    {
      "cell_type": "markdown",
      "metadata": {
        "id": "IW5ssqvr4iju"
      },
      "source": [
        "## Features"
      ]
    },
    {
      "cell_type": "code",
      "metadata": {
        "colab": {
          "base_uri": "https://localhost:8080/",
          "height": 53
        },
        "id": "ZwbYo--Z4j6p",
        "outputId": "1aac1638-f746-45cd-e08f-5fa9f84234d9"
      },
      "source": [
        "train_word_vector, train_word_idx_dict, train_idx_word_dict = create_word_vec(X_Test, Y_Test, force_create=FORCE_CREATE_DICT)\n",
        "print(f'Word Vector Shape: {train_word_vector.shape}')\n",
        "assert train_word_vector.shape == (len(train_idx_word_dict.keys()), EMB_SIZE)"
      ],
      "execution_count": null,
      "outputs": [
        {
          "output_type": "display_data",
          "data": {
            "text/plain": [
              "<IPython.core.display.HTML object>"
            ],
            "text/html": [
              "\n",
              "  <style>\n",
              "    pre {\n",
              "        white-space: pre-wrap;\n",
              "    }\n",
              "  </style>\n",
              "  "
            ]
          },
          "metadata": {}
        },
        {
          "output_type": "stream",
          "name": "stdout",
          "text": [
            "Saved embedding dictionary\n",
            "Word Vector Shape: (51735, 300)\n"
          ]
        }
      ]
    },
    {
      "cell_type": "markdown",
      "metadata": {
        "id": "tAEZxF5satqn"
      },
      "source": [
        "## Model\n",
        "\n",
        "\n",
        "- **`create_pretrained_emb_layer(word_vector)`**:\n",
        "  - Creates an embedding layer from pre-trained word vectors, allowing the layer's weights to be fine-tuned during training (`freeze=False`).\n",
        "\n",
        "- **`Encoder` class**:\n",
        "  - Initializes with an embedding layer, GRU (Gated Recurrent Unit) network, and configuration parameters like number of layers and dropout.\n",
        "  - Implements a forward pass that processes input sequences with padding and packing for efficient RNN operations, computes GRU outputs, and combines the outputs of the bidirectional GRU.\n",
        "\n",
        "- **`Attention` class**:\n",
        "  - Implements an attention mechanism using a linear transformation followed by a tanh activation to compute an \"energy\" from the hidden states.\n",
        "  - Computes attention scores by multiplying a learned parameter (`value`) with the energy, then applying softmax to obtain attention weights that quantify the importance of each encoder output.\n",
        "\n",
        "- **`Decoder` class**:\n",
        "  - Initializes with an embedding layer and a GRU network, along with configurations for dropout and the number of layers.\n",
        "  - Uses an attention mechanism within its forward pass to integrate context from the encoder's output based on attention weights.\n",
        "  - Concatenates the GRU output and weighted context from the encoder to form a combined vector, which is then passed through linear transformations and activations to produce the final output predictions.\n",
        "\n"
      ]
    },
    {
      "cell_type": "code",
      "metadata": {
        "colab": {
          "base_uri": "https://localhost:8080/",
          "height": 17
        },
        "id": "WuyIwNIYiZG1",
        "outputId": "e8d8f084-df74-4130-c0fb-6bfd6e7b474e"
      },
      "source": [
        "# Create the embedding layer weights based on the pre-trained word vector\n",
        "def create_pretrained_emb_layer(word_vector):\n",
        "    # vocab_size, embed_dim = word_vector.shape\n",
        "    embed_layer = nn.Embedding.from_pretrained(torch.tensor(word_vector).float(), freeze=False)\n",
        "    return embed_layer"
      ],
      "execution_count": null,
      "outputs": [
        {
          "output_type": "display_data",
          "data": {
            "text/plain": [
              "<IPython.core.display.HTML object>"
            ],
            "text/html": [
              "\n",
              "  <style>\n",
              "    pre {\n",
              "        white-space: pre-wrap;\n",
              "    }\n",
              "  </style>\n",
              "  "
            ]
          },
          "metadata": {}
        }
      ]
    },
    {
      "cell_type": "code",
      "metadata": {
        "colab": {
          "base_uri": "https://localhost:8080/",
          "height": 17
        },
        "id": "hci0r8KJaxST",
        "outputId": "7c98c55c-51a4-42a1-e170-5185578c767f"
      },
      "source": [
        "class Encoder(nn.Module):\n",
        "    def __init__(self, hidden_dim, embedding_layer, n_layers=1, dropout=0):\n",
        "        super(Encoder, self).__init__()\n",
        "\n",
        "        self.n_layers = n_layers\n",
        "        self.hidden_dim = hidden_dim\n",
        "\n",
        "        self.embedding = embedding_layer\n",
        "        self.gru = nn.GRU(EMB_SIZE,\n",
        "                          hidden_dim,\n",
        "                          num_layers=n_layers,\n",
        "                          dropout=dropout,\n",
        "                          bidirectional=True)\n",
        "\n",
        "    def forward(self, x, lengths, x_h=None):\n",
        "        embedded = self.embedding(x)\n",
        "        # Pack padded batch of sequences for RNN module\n",
        "        packed = torch.nn.utils.rnn.pack_padded_sequence(embedded, lengths, enforce_sorted=False)\n",
        "        # Forward pass through GRU\n",
        "        y_hat, x_h = self.gru(packed, x_h)\n",
        "        # Unpack padding\n",
        "        y_hat, _ = torch.nn.utils.rnn.pad_packed_sequence(y_hat)\n",
        "        # Sum bidirectional GRU outputs\n",
        "        y_hat = y_hat[:, :, :self.hidden_dim] + y_hat[:, : ,self.hidden_dim:]\n",
        "        # Return output and final hidden state\n",
        "\n",
        "        return y_hat, x_h\n",
        "\n",
        "class Attention(nn.Module):\n",
        "    def __init__(self, hidden_dim):\n",
        "        super(Attention, self).__init__()\n",
        "        self.hidden_dim = hidden_dim\n",
        "\n",
        "        self.attention = nn.Linear(hidden_dim * 2, hidden_dim)\n",
        "        self.value = nn.Parameter(torch.FloatTensor(hidden_dim).normal_())\n",
        "\n",
        "    def forward(self, x_h, encoder_output):\n",
        "        energy = self.attention(torch.cat((x_h.expand(encoder_output.size(0), -1, -1), encoder_output), 2)).tanh()\n",
        "        attn_score = torch.sum(self.value * energy, dim=2)\n",
        "\n",
        "        # Transpose max_length and batch_size dimensions\n",
        "        attn_score = attn_score.t()\n",
        "\n",
        "        # the softmax normalized probability scores (with added dimension)\n",
        "        attn_weights = F.softmax(attn_score, dim=1).unsqueeze(1)\n",
        "        return attn_weights\n",
        "\n",
        "\n",
        "class Decoder(nn.Module):\n",
        "    def __init__(self, hidden_dim, output_dim, embedding_layer, n_layers=1, dropout=0.1):\n",
        "        super(Decoder, self).__init__()\n",
        "\n",
        "        self.embedding = embedding_layer # TODO\n",
        "        self.dropout = nn.Dropout(dropout)\n",
        "        self.n_layers = n_layers\n",
        "        self.gru = nn.GRU(input_size=EMB_SIZE,\n",
        "                          hidden_size=hidden_dim,\n",
        "                          num_layers=n_layers,\n",
        "                          dropout=dropout)\n",
        "\n",
        "        self.attn_gru_combined = nn.Linear(hidden_dim * 2, hidden_dim)\n",
        "        self.out = nn.Linear(hidden_dim, output_dim)\n",
        "\n",
        "        self.attention = Attention(hidden_dim)\n",
        "\n",
        "    def forward(self, x, x_h, encoder_output):\n",
        "        embedded = self.embedding(x)\n",
        "        embedded = self.dropout(embedded)\n",
        "\n",
        "        y_hat, x_h = self.gru(embedded, x_h)\n",
        "\n",
        "        attn_weights = self.attention(y_hat, encoder_output)\n",
        "\n",
        "        # Multiply attention weights to encoder outputs to get new \"weighted sum\" context vector\n",
        "        context = attn_weights.bmm(encoder_output.transpose(0, 1))\n",
        "\n",
        "        # Concatenate weighted context vectors\n",
        "        y_hat = y_hat.squeeze(0)\n",
        "        context = context.squeeze(1)\n",
        "        weighted_context = torch.cat((y_hat, context), 1)\n",
        "\n",
        "        y_hat = torch.tanh(self.attn_gru_combined(weighted_context))\n",
        "\n",
        "        y_hat = F.softmax(self.out(y_hat), dim=1)\n",
        "        return y_hat, x_h"
      ],
      "execution_count": null,
      "outputs": [
        {
          "output_type": "display_data",
          "data": {
            "text/plain": [
              "<IPython.core.display.HTML object>"
            ],
            "text/html": [
              "\n",
              "  <style>\n",
              "    pre {\n",
              "        white-space: pre-wrap;\n",
              "    }\n",
              "  </style>\n",
              "  "
            ]
          },
          "metadata": {}
        }
      ]
    },
    {
      "cell_type": "markdown",
      "metadata": {
        "id": "EesuGm1gg5do"
      },
      "source": [
        "## Train Functions\n",
        "- **Batch Processing and Data Preparation**: The `train` function performs batch processing of data by randomly selecting articles (`X_samples`) and their corresponding summaries (`Y_samples`) from a test set. It converts these samples into indexed format suitable for model input, pads them to uniform length, and generates a binary mask indicating valid data points versus padding.\n",
        "\n",
        "- **Training Loop Execution**: Within each epoch, it calls the `one_pass` function to perform a single forward and backward pass with the encoder and decoder models, calculates the loss for the sequence using a masked Negative Log-Likelihood criterion, and updates the model parameters via backpropagation. Losses for each batch are accumulated to monitor training progress.\n",
        "\n"
      ]
    },
    {
      "cell_type": "code",
      "metadata": {
        "colab": {
          "base_uri": "https://localhost:8080/",
          "height": 17
        },
        "id": "FncqKGnbg7lQ",
        "outputId": "52119853-4068-45c5-8a18-124f07cbacda"
      },
      "source": [
        "def maskNLLLoss(inp, target, mask):\n",
        "    # TODO: Reference\n",
        "    mask = mask.bool()\n",
        "    nTotal = mask.sum()\n",
        "    crossEntropy = -torch.log(torch.gather(inp, 1, target.view(-1, 1)).squeeze(1))\n",
        "    loss = crossEntropy.masked_select(mask).mean()\n",
        "    loss = loss.to(device)\n",
        "    return loss, nTotal.item()\n",
        "\n",
        "def one_pass(x, y, e_model, d_model, e_optim, d_optim, lengths, mask, max_target_len):\n",
        "    e_optim.zero_grad()\n",
        "    d_optim.zero_grad()\n",
        "\n",
        "    x = torch.tensor(x).to(device)\n",
        "    y = torch.tensor(y).to(device)\n",
        "    mask = mask.to(device)\n",
        "\n",
        "    loss = 0 # loss accumulated from each timestep\n",
        "    pass_loss = [] # loss for one pass\n",
        "\n",
        "    e_output, e_hidden = e_model(x, lengths)\n",
        "\n",
        "    # Create initial decoder input (start with START_CHAR for each sequence)\n",
        "    d_input = torch.LongTensor([[train_word_idx_dict[START_CHAR] for _ in range(BATCH_SIZE)]])\n",
        "    d_input = d_input.to(device)\n",
        "\n",
        "    # Set initial decoder hidden state to the encoder's final hidden state\n",
        "    d_hidden = e_hidden[:d_model.n_layers]\n",
        "\n",
        "    for i in range(max_target_len):\n",
        "        d_output, d_hidden = d_model(d_input, d_hidden, e_output)\n",
        "\n",
        "        if random.random() < EPSILON:\n",
        "            d_input = y[i].view(1, -1)\n",
        "\n",
        "        else:\n",
        "            # TODO\n",
        "            _, topi = d_output.topk(1) # topi = torch.argmax(d_output, axis=1)\n",
        "            d_input = torch.LongTensor([[topi[i][0] for i in range(BATCH_SIZE)]])\n",
        "            d_input = d_input.to(device)\n",
        "\n",
        "        # Calculate and accumulate loss\n",
        "        mask_loss, nTotal = maskNLLLoss(d_output, y[i], mask[i])\n",
        "        loss += mask_loss\n",
        "\n",
        "        pass_loss.append(mask_loss.item())\n",
        "\n",
        "\n",
        "    loss.backward()\n",
        "    torch.nn.utils.clip_grad_norm_(e_model.parameters(), 1)\n",
        "    torch.nn.utils.clip_grad_norm_(d_model.parameters(), 1)\n",
        "\n",
        "    e_optim.step()\n",
        "    d_optim.step()\n",
        "\n",
        "    return sum(pass_loss) / len(pass_loss)\n",
        "\n",
        "def train(e_model, d_model, e_optim, d_optim, model_name):\n",
        "    print('Training')\n",
        "    e_model.train()\n",
        "    d_model.train()\n",
        "    ep_loss = []\n",
        "\n",
        "    for ep in range(1, EP + 1):\n",
        "        X_samples = []\n",
        "        Y_samples = []\n",
        "        for _ in range(BATCH_SIZE):\n",
        "            rand_idx = random.randint(0, len(X_Test)-1)\n",
        "            X_samples.append(X_Test[rand_idx])\n",
        "            Y_samples.append(Y_Test[rand_idx])\n",
        "\n",
        "        # article\n",
        "        indexes_batch = [sentence_to_idx(sentence, train_word_idx_dict) for sentence in X_samples]\n",
        "        lengths = torch.tensor([len(indexes) for indexes in indexes_batch])\n",
        "        padList = zeroPadding(indexes_batch, fillvalue=train_word_idx_dict[PAD_CHAR])\n",
        "        X_batch = torch.LongTensor(padList)\n",
        "\n",
        "        # labels\n",
        "        indexes_batch = [sentence_to_idx(sentence, train_word_idx_dict) for sentence in Y_samples]\n",
        "        max_target_len = max([len(indexes) for indexes in indexes_batch])\n",
        "        padList = zeroPadding(indexes_batch, fillvalue=train_word_idx_dict[PAD_CHAR])\n",
        "        mask = binaryMatrix(padList)\n",
        "        mask = torch.ByteTensor(mask)\n",
        "        Y_batch = torch.LongTensor(padList)\n",
        "\n",
        "\n",
        "\n",
        "\n",
        "        # TODO\n",
        "        loss = one_pass(X_batch, Y_batch, e_model, d_model, e_optim, d_optim, lengths, mask, max_target_len)\n",
        "\n",
        "        ep_loss.append(loss)\n",
        "\n",
        "        if ep % PRINT_EVERY_EP == 0 and ep > 0:\n",
        "            print(f'EP:{ep} | Loss: {np.array(ep_loss[-PRINT_EVERY_EP:]).mean()}')\n",
        "\n",
        "        if ep % SAVE_MODEL_EVERY_EP == 0 and ep > 0:\n",
        "          torch.save({\n",
        "        'epoch': ep,\n",
        "         'encoder_model': e_model.state_dict(),\n",
        "        'decoder_model': d_model.state_dict(),\n",
        "         'encoder_optimizer': e_optim.state_dict(),\n",
        "        'decoder_optimizer': d_optim.state_dict(),\n",
        "        'loss': loss\n",
        "        }, f'{drive_prefix}models/{model_name}/checkpoint_{ep}')\n",
        "\n",
        "    return ep_loss"
      ],
      "execution_count": null,
      "outputs": [
        {
          "output_type": "display_data",
          "data": {
            "text/plain": [
              "<IPython.core.display.HTML object>"
            ],
            "text/html": [
              "\n",
              "  <style>\n",
              "    pre {\n",
              "        white-space: pre-wrap;\n",
              "    }\n",
              "  </style>\n",
              "  "
            ]
          },
          "metadata": {}
        }
      ]
    },
    {
      "cell_type": "code",
      "metadata": {
        "colab": {
          "base_uri": "https://localhost:8080/",
          "height": 17
        },
        "id": "w0NKyb_FjorU",
        "outputId": "d55197e7-7c79-4861-9e1b-ff7f4f68faee"
      },
      "source": [
        "def evaluate(article, encoder, decoder):\n",
        "    encoder.eval()\n",
        "    decoder.eval()\n",
        "\n",
        "    with torch.no_grad():\n",
        "        indexes_batch = [sentence_to_idx(article, train_word_idx_dict)]\n",
        "\n",
        "        # Create lengths tensor\n",
        "        lengths = torch.tensor([len(indexes) for indexes in indexes_batch])\n",
        "        # Transpose dimensions of batch to match models' expectations\n",
        "        input_batch = torch.LongTensor(indexes_batch).transpose(0, 1)\n",
        "        # Use appropriate device\n",
        "        input_batch = input_batch.to(device)\n",
        "        # lengths = lengths.to(device)\n",
        "\n",
        "        e_output, e_hidden = encoder(input_batch, lengths)\n",
        "        d_hidden = e_hidden[:decoder.n_layers]\n",
        "\n",
        "        # Initialize decoder input with SOS_token\n",
        "        d_input = torch.ones(1, 1, device=device, dtype=torch.long) * train_word_idx_dict[START_CHAR]\n",
        "\n",
        "        # Initialize tensors to append decoded words to\n",
        "        all_tokens = torch.zeros([0], device=device, dtype=torch.long)\n",
        "\n",
        "        for i in range(MAX_DECODER_OUTPUT):\n",
        "            d_output, d_hidden = decoder(d_input, d_hidden, e_output)\n",
        "\n",
        "            scores, d_input = torch.max(d_output, dim=1)\n",
        "\n",
        "            all_tokens = torch.cat((all_tokens, d_input), dim=0)\n",
        "\n",
        "            d_input = torch.unsqueeze(d_input, 0)\n",
        "\n",
        "        tokens = all_tokens\n",
        "\n",
        "        # mask_loss, nTotal = maskNLLLoss(d_output, y[i], mask[i])\n",
        "        # loss += mask_loss\n",
        "\n",
        "        # indexes -> words\n",
        "        decoded_words = [train_idx_word_dict[token.item()] for token in tokens]\n",
        "\n",
        "    return decoded_words"
      ],
      "execution_count": null,
      "outputs": [
        {
          "output_type": "display_data",
          "data": {
            "text/plain": [
              "<IPython.core.display.HTML object>"
            ],
            "text/html": [
              "\n",
              "  <style>\n",
              "    pre {\n",
              "        white-space: pre-wrap;\n",
              "    }\n",
              "  </style>\n",
              "  "
            ]
          },
          "metadata": {}
        }
      ]
    },
    {
      "cell_type": "markdown",
      "metadata": {
        "id": "S3QSQR2i4xjg"
      },
      "source": [
        "## Run\n"
      ]
    },
    {
      "cell_type": "code",
      "metadata": {
        "colab": {
          "base_uri": "https://localhost:8080/",
          "height": 928
        },
        "id": "PT48OrdXnPGK",
        "outputId": "de89ecff-0675-4c7d-f817-fe8d1698b663"
      },
      "source": [
        "# MAIN DRIVER\n",
        "model_name = 'autoencoder_attn'\n",
        "\n",
        "e_embedding_layer = create_pretrained_emb_layer(train_word_vector)\n",
        "d_embedding_layer = create_pretrained_emb_layer(train_word_vector)\n",
        "\n",
        "assert train_word_vector.shape[0] == len(train_word_idx_dict) == len(train_idx_word_dict)\n",
        "\n",
        "encoder = Encoder(E_HIDDEN_DIM, embedding_layer=e_embedding_layer, n_layers=3, dropout=0.3).to(device)\n",
        "decoder = Decoder(D_HIDDEN_DIM, embedding_layer=d_embedding_layer, output_dim=train_word_vector.shape[0], n_layers=3).to(device)\n",
        "\n",
        "e_optim = optim.Adam(encoder.parameters(), lr=1e-3)\n",
        "d_optim = optim.Adam(decoder.parameters(), lr=1e-3)\n",
        "\n",
        "plot_loss = train(encoder, decoder, e_optim, d_optim, model_name=model_name)"
      ],
      "execution_count": null,
      "outputs": [
        {
          "output_type": "display_data",
          "data": {
            "text/plain": [
              "<IPython.core.display.HTML object>"
            ],
            "text/html": [
              "\n",
              "  <style>\n",
              "    pre {\n",
              "        white-space: pre-wrap;\n",
              "    }\n",
              "  </style>\n",
              "  "
            ]
          },
          "metadata": {}
        },
        {
          "output_type": "stream",
          "name": "stdout",
          "text": [
            "Training\n"
          ]
        },
        {
          "output_type": "stream",
          "name": "stderr",
          "text": [
            "<ipython-input-19-c91f32fefca9>:14: UserWarning: To copy construct from a tensor, it is recommended to use sourceTensor.clone().detach() or sourceTensor.clone().detach().requires_grad_(True), rather than torch.tensor(sourceTensor).\n",
            "  x = torch.tensor(x).to(device)\n",
            "<ipython-input-19-c91f32fefca9>:15: UserWarning: To copy construct from a tensor, it is recommended to use sourceTensor.clone().detach() or sourceTensor.clone().detach().requires_grad_(True), rather than torch.tensor(sourceTensor).\n",
            "  y = torch.tensor(y).to(device)\n"
          ]
        },
        {
          "output_type": "stream",
          "name": "stdout",
          "text": [
            "EP:100 | Loss: 4.778611560908492\n",
            "EP:200 | Loss: 4.023488826413404\n",
            "EP:300 | Loss: 4.002459570130634\n",
            "EP:400 | Loss: 3.9524739515499956\n",
            "EP:500 | Loss: 3.8473268550584936\n",
            "EP:600 | Loss: 3.8149450370801032\n",
            "EP:700 | Loss: 3.8416923042855875\n",
            "EP:800 | Loss: 3.8064406942048223\n",
            "EP:900 | Loss: 3.754287870909813\n",
            "EP:1000 | Loss: 3.612410025685398\n",
            "EP:1100 | Loss: 3.6206014475815795\n",
            "EP:1200 | Loss: 3.5673454621684133\n",
            "EP:1300 | Loss: 3.5124595981190727\n",
            "EP:1400 | Loss: 3.4352628674370687\n",
            "EP:1500 | Loss: 3.458776469227575\n",
            "EP:1600 | Loss: 3.405981885328712\n",
            "EP:1700 | Loss: 3.304163491875043\n",
            "EP:1800 | Loss: 3.326320522274675\n",
            "EP:1900 | Loss: 3.2617405616756208\n",
            "EP:2000 | Loss: 3.2483144809716187\n",
            "EP:2100 | Loss: 3.2087074187363833\n",
            "EP:2200 | Loss: 3.2122496431490806\n",
            "EP:2300 | Loss: 3.1066837541002483\n",
            "EP:2400 | Loss: 3.1160993122951233\n",
            "EP:2500 | Loss: 3.0734976325445365\n",
            "EP:2600 | Loss: 3.010150334755144\n",
            "EP:2700 | Loss: 3.010091997043966\n",
            "EP:2800 | Loss: 2.960613052476041\n",
            "EP:2900 | Loss: 2.9576880229464297\n",
            "EP:3000 | Loss: 2.9146138656764116\n",
            "EP:3100 | Loss: 2.8580532505603236\n",
            "EP:3200 | Loss: 2.83712188293866\n",
            "EP:3300 | Loss: 2.7527476490768716\n",
            "EP:3400 | Loss: 2.809912823013625\n",
            "EP:3500 | Loss: 2.7070039338619396\n",
            "EP:3600 | Loss: 2.724073855162031\n",
            "EP:3700 | Loss: 2.692519425016367\n",
            "EP:3800 | Loss: 2.618908468491516\n",
            "EP:3900 | Loss: 2.6011671326320966\n",
            "EP:4000 | Loss: 2.6109074936968244\n",
            "EP:4100 | Loss: 2.5834168670669118\n",
            "EP:4200 | Loss: 2.5655312559280743\n",
            "EP:4300 | Loss: 2.5649105339951426\n",
            "EP:4400 | Loss: 2.524313064101419\n"
          ]
        }
      ]
    },
    {
      "cell_type": "markdown",
      "source": [
        "# Evaluation"
      ],
      "metadata": {
        "id": "M8F1eAbGSKO2"
      }
    },
    {
      "cell_type": "code",
      "metadata": {
        "colab": {
          "base_uri": "https://localhost:8080/",
          "height": 17
        },
        "id": "tzXdurwjrfWp",
        "outputId": "3ee18315-fbfe-48f6-8bee-212e2556f2f7"
      },
      "source": [
        "def compute_rouge(pred_summaries, true_summaries):\n",
        "  from rouge_score import rouge_scorer\n",
        "  scorer = rouge_scorer.RougeScorer(['rouge1', 'rougeL'], use_stemmer=True)\n",
        "  rogue1_precision = []\n",
        "  rogue1_recall = []\n",
        "  rogue1_fmeasure = []\n",
        "  rogueL_precision = []\n",
        "  rogueL_recall = []\n",
        "  rogueL_fmeasure = []\n",
        "  for i in range(len(pred_summaries)):\n",
        "    score = scorer.score(pred_summaries[i], true_summaries[i])\n",
        "    rogue1_precision.append(score['rouge1'].precision)\n",
        "    rogue1_recall.append(score['rouge1'].recall)\n",
        "    rogue1_fmeasure.append(score['rouge1'].fmeasure)\n",
        "    rogueL_precision.append(score['rougeL'].precision)\n",
        "    rogueL_recall.append(score['rougeL'].recall)\n",
        "    rogueL_fmeasure.append(score['rougeL'].fmeasure)\n",
        "\n",
        "  scores = {'rogue1_precision':rogue1_precision, 'rogue1_recall':rogue1_recall, 'rogue1_fmeasure': rogue1_fmeasure, 'rogueL_precision':rogueL_precision, 'rogueL_recall':rogueL_recall, 'rogueL_fmeasure': rogueL_fmeasure }\n",
        "  return scores"
      ],
      "execution_count": null,
      "outputs": [
        {
          "output_type": "display_data",
          "data": {
            "text/plain": [
              "<IPython.core.display.HTML object>"
            ],
            "text/html": [
              "\n",
              "  <style>\n",
              "    pre {\n",
              "        white-space: pre-wrap;\n",
              "    }\n",
              "  </style>\n",
              "  "
            ]
          },
          "metadata": {}
        }
      ]
    },
    {
      "cell_type": "code",
      "metadata": {
        "colab": {
          "base_uri": "https://localhost:8080/",
          "height": 17
        },
        "id": "ssjzstXvrgTI",
        "outputId": "4b7517a1-2498-4770-e34b-1762576bf0ff"
      },
      "source": [
        "def compute_rouge_summary_stats(scores):\n",
        "  def mean_confidence_interval(data, confidence=0.95):\n",
        "    import scipy.stats\n",
        "    a = 1.0 * np.array(data)\n",
        "    n = len(a)\n",
        "    m, se = np.mean(a), scipy.stats.sem(a)\n",
        "    h = se * scipy.stats.t.ppf((1 + confidence) / 2., n-1)\n",
        "    return m, m-h, m+h\n",
        "  stats = {}\n",
        "  for key in scores.keys():\n",
        "    stats[key] = mean_confidence_interval(scores[key])\n",
        "  return stats"
      ],
      "execution_count": null,
      "outputs": [
        {
          "output_type": "display_data",
          "data": {
            "text/plain": [
              "<IPython.core.display.HTML object>"
            ],
            "text/html": [
              "\n",
              "  <style>\n",
              "    pre {\n",
              "        white-space: pre-wrap;\n",
              "    }\n",
              "  </style>\n",
              "  "
            ]
          },
          "metadata": {}
        }
      ]
    },
    {
      "cell_type": "code",
      "metadata": {
        "colab": {
          "base_uri": "https://localhost:8080/",
          "height": 17
        },
        "id": "iVEiwq7nrpqD",
        "outputId": "6a6b81dc-e8c7-4a6d-a954-b1e0e1d7b9b4"
      },
      "source": [
        "def evaluate_all(X, Y):\n",
        "  pred_summaries, true_summaries = [], []\n",
        "  for ind in range(len(X)):\n",
        "    pred_summary = ' '.join([token for token in evaluate(X[ind], encoder, decoder) if token != PAD_CHAR])\n",
        "    true_summary = Y[ind]\n",
        "    pred_summaries.append(pred_summary)\n",
        "    true_summaries.append(true_summary)\n",
        "  return pred_summaries, true_summaries"
      ],
      "execution_count": null,
      "outputs": [
        {
          "output_type": "display_data",
          "data": {
            "text/plain": [
              "<IPython.core.display.HTML object>"
            ],
            "text/html": [
              "\n",
              "  <style>\n",
              "    pre {\n",
              "        white-space: pre-wrap;\n",
              "    }\n",
              "  </style>\n",
              "  "
            ]
          },
          "metadata": {}
        }
      ]
    },
    {
      "cell_type": "code",
      "metadata": {
        "colab": {
          "base_uri": "https://localhost:8080/",
          "height": 17
        },
        "id": "8lyOChzt09xS",
        "outputId": "5d2ee770-59b3-4dc9-b730-0d136e2255db"
      },
      "source": [
        "pred_summaries, true_summaries = evaluate_all(X_Val, Y_Val)"
      ],
      "execution_count": null,
      "outputs": [
        {
          "output_type": "display_data",
          "data": {
            "text/plain": [
              "<IPython.core.display.HTML object>"
            ],
            "text/html": [
              "\n",
              "  <style>\n",
              "    pre {\n",
              "        white-space: pre-wrap;\n",
              "    }\n",
              "  </style>\n",
              "  "
            ]
          },
          "metadata": {}
        }
      ]
    },
    {
      "cell_type": "code",
      "metadata": {
        "colab": {
          "base_uri": "https://localhost:8080/",
          "height": 17
        },
        "id": "lF7aboyW2Wvg",
        "outputId": "07d0e4db-9910-4133-c4fb-1aebc92ced0e"
      },
      "source": [
        "pred_summaries_filtered  = [' '.join([token for token in summary.split() if token != 'starttoken' and token != 't' and token != 'endtoken']) for summary in pred_summaries]\n",
        "true_summaries_filtered  = [' '.join([token for token in summary.split() if token != 'starttoken' and token != 't' and token != 'endtoken']) for summary in true_summaries]"
      ],
      "execution_count": null,
      "outputs": [
        {
          "output_type": "display_data",
          "data": {
            "text/plain": [
              "<IPython.core.display.HTML object>"
            ],
            "text/html": [
              "\n",
              "  <style>\n",
              "    pre {\n",
              "        white-space: pre-wrap;\n",
              "    }\n",
              "  </style>\n",
              "  "
            ]
          },
          "metadata": {}
        }
      ]
    },
    {
      "cell_type": "code",
      "metadata": {
        "colab": {
          "base_uri": "https://localhost:8080/",
          "height": 17
        },
        "id": "hStKjK-B17eY",
        "outputId": "f08f54f1-34c6-422a-8d1a-7e4fe44117ec"
      },
      "source": [
        "scores = compute_rouge(pred_summaries_filtered, true_summaries_filtered)"
      ],
      "execution_count": null,
      "outputs": [
        {
          "output_type": "display_data",
          "data": {
            "text/plain": [
              "<IPython.core.display.HTML object>"
            ],
            "text/html": [
              "\n",
              "  <style>\n",
              "    pre {\n",
              "        white-space: pre-wrap;\n",
              "    }\n",
              "  </style>\n",
              "  "
            ]
          },
          "metadata": {}
        }
      ]
    },
    {
      "cell_type": "markdown",
      "source": [
        "# Rouge Scores and Metrics"
      ],
      "metadata": {
        "id": "UJNDNFzDSR1Z"
      }
    },
    {
      "cell_type": "code",
      "metadata": {
        "colab": {
          "base_uri": "https://localhost:8080/",
          "height": 303
        },
        "id": "v_rLjEkm2FxQ",
        "outputId": "b3113195-3273-4d13-d705-15272ddc51ea"
      },
      "source": [
        "compute_rouge_summary_stats(scores)"
      ],
      "execution_count": null,
      "outputs": [
        {
          "output_type": "display_data",
          "data": {
            "text/plain": [
              "<IPython.core.display.HTML object>"
            ],
            "text/html": [
              "\n",
              "  <style>\n",
              "    pre {\n",
              "        white-space: pre-wrap;\n",
              "    }\n",
              "  </style>\n",
              "  "
            ]
          },
          "metadata": {}
        },
        {
          "output_type": "execute_result",
          "data": {
            "text/plain": [
              "{'rogue1_precision': (0.15463152448517703,\n",
              "  0.15088279281329234,\n",
              "  0.15838025615706172),\n",
              " 'rogue1_recall': (0.17679086937262764,\n",
              "  0.17102905753738767,\n",
              "  0.1825526812078676),\n",
              " 'rogue1_fmeasure': (0.16031528633869951,\n",
              "  0.15618507852284513,\n",
              "  0.1644454941545539),\n",
              " 'rogueL_precision': (0.1159719263293253,\n",
              "  0.11315569431356917,\n",
              "  0.11878815834508144),\n",
              " 'rogueL_recall': (0.13053580551427346, 0.12658865052504692, 0.1344829605035),\n",
              " 'rogueL_fmeasure': (0.11931313429448252,\n",
              "  0.11639132308473761,\n",
              "  0.12223494550422744)}"
            ]
          },
          "metadata": {},
          "execution_count": 38
        }
      ]
    },
    {
      "cell_type": "markdown",
      "source": [
        "# Loss curve"
      ],
      "metadata": {
        "id": "KxxpeJU1SXJs"
      }
    },
    {
      "cell_type": "code",
      "source": [
        "import matplotlib.pyplot as plt\n",
        "\n",
        "# Assuming plot_loss is a list of loss values\n",
        "plt.figure(figsize=(10, 5))\n",
        "plt.plot(plot_loss, label='Training Loss')\n",
        "plt.title('Loss Over Epochs')\n",
        "plt.xlabel('Epochs')\n",
        "plt.ylabel('Loss')\n",
        "plt.legend()\n",
        "plt.grid(True)\n",
        "plt.show()"
      ],
      "metadata": {
        "colab": {
          "base_uri": "https://localhost:8080/",
          "height": 487
        },
        "id": "PVffOJfkImWQ",
        "outputId": "61f17ae5-87a1-46bc-dfdd-c30701bff200"
      },
      "execution_count": null,
      "outputs": [
        {
          "output_type": "display_data",
          "data": {
            "text/plain": [
              "<IPython.core.display.HTML object>"
            ],
            "text/html": [
              "\n",
              "  <style>\n",
              "    pre {\n",
              "        white-space: pre-wrap;\n",
              "    }\n",
              "  </style>\n",
              "  "
            ]
          },
          "metadata": {}
        },
        {
          "output_type": "display_data",
          "data": {
            "text/plain": [
              "<Figure size 1000x500 with 1 Axes>"
            ],
            "image/png": "[encoded data removed]"
          },
          "metadata": {}
        }
      ]
    },
    {
      "cell_type": "code",
      "source": [],
      "metadata": {
        "id": "qW-OUR1jKWKy"
      },
      "execution_count": null,
      "outputs": []
    }
  ]
}