{
  "nbformat": 4,
  "nbformat_minor": 0,
  "metadata": {
    "colab": {
      "provenance": [],
      "collapsed_sections": [
        "5cdujyw4Tzcc"
      ],
      "gpuType": "L4",
      "machine_shape": "hm"
    },
    "kernelspec": {
      "name": "python3",
      "display_name": "Python 3"
    },
    "accelerator": "GPU"
  },
  "cells": [
    {
      "cell_type": "markdown",
      "source": [
        "# Abstractive Text Summarization using Custom Transformer model with Multiheaded Attention"
      ],
      "metadata": {
        "id": "jc10m60e1SE8"
      }
    },
    {
      "cell_type": "markdown",
      "metadata": {
        "id": "5TOk077ygpZM"
      },
      "source": [
        "## For Colab"
      ]
    },
    {
      "cell_type": "code",
      "metadata": {
        "id": "5RM0X0a6TVMM"
      },
      "source": [
        "from IPython.display import HTML, display\n",
        "\n",
        "def set_css():\n",
        "  display(HTML('''\n",
        "  <style>\n",
        "    pre {\n",
        "        white-space: pre-wrap;\n",
        "    }\n",
        "  </style>\n",
        "  '''))\n",
        "get_ipython().events.register('pre_run_cell', set_css)"
      ],
      "execution_count": 1,
      "outputs": []
    },
    {
      "cell_type": "markdown",
      "source": [
        "Mounting the google drive"
      ],
      "metadata": {
        "id": "0e_ggqOR1a-z"
      }
    },
    {
      "cell_type": "code",
      "metadata": {
        "colab": {
          "base_uri": "https://localhost:8080/",
          "height": 35
        },
        "id": "mGd4mT34Tmsc",
        "outputId": "b2109ee8-8d62-4c70-8887-ccf59de6d5d2"
      },
      "source": [
        "from google.colab import drive\n",
        "drive.mount('/content/drive')"
      ],
      "execution_count": 2,
      "outputs": [
        {
          "output_type": "display_data",
          "data": {
            "text/plain": [
              "<IPython.core.display.HTML object>"
            ],
            "text/html": [
              "\n",
              "  <style>\n",
              "    pre {\n",
              "        white-space: pre-wrap;\n",
              "    }\n",
              "  </style>\n",
              "  "
            ]
          },
          "metadata": {}
        },
        {
          "output_type": "stream",
          "name": "stdout",
          "text": [
            "Mounted at /content/drive\n"
          ]
        }
      ]
    },
    {
      "cell_type": "markdown",
      "metadata": {
        "id": "2cef7T0rTaV_"
      },
      "source": [
        "## Module Imports"
      ]
    },
    {
      "cell_type": "code",
      "metadata": {
        "colab": {
          "base_uri": "https://localhost:8080/",
          "height": 410
        },
        "id": "iiOa4M86TZhk",
        "outputId": "b051c94e-f4dd-49c3-ea47-b0e9b3101f22"
      },
      "source": [
        "import torch\n",
        "import torchvision\n",
        "import torch.nn as nn\n",
        "import torch.nn.functional as F\n",
        "import torch.optim as optim\n",
        "from torch.optim.lr_scheduler import ReduceLROnPlateau\n",
        "import numpy as np\n",
        "import random\n",
        "from tqdm import tqdm\n",
        "import os\n",
        "import nltk\n",
        "nltk.download('punkt')\n",
        "nltk.download('stopwords')\n",
        "from nltk.corpus import stopwords\n",
        "from nltk.tokenize import word_tokenize\n",
        "from matplotlib import pyplot as plt\n",
        "from torch.nn.utils.rnn import pad_sequence\n",
        "import glob\n",
        "import itertools\n",
        "import pickle\n",
        "import re\n",
        "import pandas as pd\n",
        "from tqdm import tqdm\n",
        "from sklearn.model_selection import train_test_split\n",
        "!pip install rouge-score"
      ],
      "execution_count": 3,
      "outputs": [
        {
          "output_type": "display_data",
          "data": {
            "text/plain": [
              "<IPython.core.display.HTML object>"
            ],
            "text/html": [
              "\n",
              "  <style>\n",
              "    pre {\n",
              "        white-space: pre-wrap;\n",
              "    }\n",
              "  </style>\n",
              "  "
            ]
          },
          "metadata": {}
        },
        {
          "output_type": "stream",
          "name": "stderr",
          "text": [
            "[nltk_data] Downloading package punkt to /root/nltk_data...\n",
            "[nltk_data]   Unzipping tokenizers/punkt.zip.\n",
            "[nltk_data] Downloading package stopwords to /root/nltk_data...\n",
            "[nltk_data]   Unzipping corpora/stopwords.zip.\n"
          ]
        },
        {
          "output_type": "stream",
          "name": "stdout",
          "text": [
            "Collecting rouge-score\n",
            "  Downloading rouge_score-0.1.2.tar.gz (17 kB)\n",
            "  Preparing metadata (setup.py) ... \u001b[?25l\u001b[?25hdone\n",
            "Requirement already satisfied: absl-py in /usr/local/lib/python3.10/dist-packages (from rouge-score) (1.4.0)\n",
            "Requirement already satisfied: nltk in /usr/local/lib/python3.10/dist-packages (from rouge-score) (3.8.1)\n",
            "Requirement already satisfied: numpy in /usr/local/lib/python3.10/dist-packages (from rouge-score) (1.25.2)\n",
            "Requirement already satisfied: six>=1.14.0 in /usr/local/lib/python3.10/dist-packages (from rouge-score) (1.16.0)\n",
            "Requirement already satisfied: click in /usr/local/lib/python3.10/dist-packages (from nltk->rouge-score) (8.1.7)\n",
            "Requirement already satisfied: joblib in /usr/local/lib/python3.10/dist-packages (from nltk->rouge-score) (1.4.2)\n",
            "Requirement already satisfied: regex>=2021.8.3 in /usr/local/lib/python3.10/dist-packages (from nltk->rouge-score) (2023.12.25)\n",
            "Requirement already satisfied: tqdm in /usr/local/lib/python3.10/dist-packages (from nltk->rouge-score) (4.66.4)\n",
            "Building wheels for collected packages: rouge-score\n",
            "  Building wheel for rouge-score (setup.py) ... \u001b[?25l\u001b[?25hdone\n",
            "  Created wheel for rouge-score: filename=rouge_score-0.1.2-py3-none-any.whl size=24933 sha256=1c913bb80b28ca50fccf5629b3e465cea7151c0a394e6df550a5835c4bdf90fa\n",
            "  Stored in directory: /root/.cache/pip/wheels/5f/dd/89/461065a73be61a532ff8599a28e9beef17985c9e9c31e541b4\n",
            "Successfully built rouge-score\n",
            "Installing collected packages: rouge-score\n",
            "Successfully installed rouge-score-0.1.2\n"
          ]
        }
      ]
    },
    {
      "cell_type": "markdown",
      "source": [
        "# Data Pre-Processing"
      ],
      "metadata": {
        "id": "4X3y_3sI1gqa"
      }
    },
    {
      "cell_type": "markdown",
      "source": [
        "Loading the dataset"
      ],
      "metadata": {
        "id": "07nO1MWd2COr"
      }
    },
    {
      "cell_type": "code",
      "source": [
        "train_path = '/content/drive/MyDrive/DLProject/cnn_dailymail/train.csv'\n",
        "test_path = '/content/drive/MyDrive/DLProject/cnn_dailymail/test.csv'\n",
        "val_path = '/content/drive/MyDrive/DLProject/cnn_dailymail/validation.csv'\n",
        "\n",
        "# Load datasets\n",
        "train_data = pd.read_csv(train_path)\n",
        "test_data = pd.read_csv(test_path)\n",
        "val_data = pd.read_csv(val_path)"
      ],
      "metadata": {
        "colab": {
          "base_uri": "https://localhost:8080/",
          "height": 17
        },
        "id": "buzzwN76runi",
        "outputId": "fd65203d-d7b5-4918-d66c-3d82107059cb"
      },
      "execution_count": null,
      "outputs": [
        {
          "output_type": "display_data",
          "data": {
            "text/plain": [
              "<IPython.core.display.HTML object>"
            ],
            "text/html": [
              "\n",
              "  <style>\n",
              "    pre {\n",
              "        white-space: pre-wrap;\n",
              "    }\n",
              "  </style>\n",
              "  "
            ]
          },
          "metadata": {}
        }
      ]
    },
    {
      "cell_type": "code",
      "source": [
        "drive_prefix = '/content/drive/MyDrive/DLProject/cnn_dailymail/'"
      ],
      "metadata": {
        "colab": {
          "base_uri": "https://localhost:8080/",
          "height": 17
        },
        "id": "t2fyHObHr6ux",
        "outputId": "6357793c-c9e8-48b0-eba2-df9bee3ab18d"
      },
      "execution_count": null,
      "outputs": [
        {
          "output_type": "display_data",
          "data": {
            "text/plain": [
              "<IPython.core.display.HTML object>"
            ],
            "text/html": [
              "\n",
              "  <style>\n",
              "    pre {\n",
              "        white-space: pre-wrap;\n",
              "    }\n",
              "  </style>\n",
              "  "
            ]
          },
          "metadata": {}
        }
      ]
    },
    {
      "cell_type": "markdown",
      "source": [
        "Splitting into test and train data"
      ],
      "metadata": {
        "id": "ZirCdaXK2GMD"
      }
    },
    {
      "cell_type": "code",
      "source": [
        "# Splitting train data\n",
        "X= train_data['article'].values[:100000]\n",
        "Y = train_data['highlights'].values[:100000]\n",
        "\n",
        "# Splitting test data\n",
        "X_Test = test_data['article'].values\n",
        "Y_Test = test_data['highlights'].values\n",
        "\n"
      ],
      "metadata": {
        "colab": {
          "base_uri": "https://localhost:8080/",
          "height": 17
        },
        "id": "3KbNg4d6r2WE",
        "outputId": "69b68742-b62d-40b4-d6e9-e43bfe76e342"
      },
      "execution_count": null,
      "outputs": [
        {
          "output_type": "display_data",
          "data": {
            "text/plain": [
              "<IPython.core.display.HTML object>"
            ],
            "text/html": [
              "\n",
              "  <style>\n",
              "    pre {\n",
              "        white-space: pre-wrap;\n",
              "    }\n",
              "  </style>\n",
              "  "
            ]
          },
          "metadata": {}
        }
      ]
    },
    {
      "cell_type": "code",
      "metadata": {
        "colab": {
          "base_uri": "https://localhost:8080/",
          "height": 35
        },
        "id": "kfZ30b4JTdIs",
        "outputId": "a40c220c-8dd1-46db-9512-e4d3561378c9"
      },
      "source": [
        "#setting up constants\n",
        "STOP_WORDS = set()\n",
        "EMB_SIZE = 300\n",
        "GLOVE_EMB = '/content/drive/My Drive/DLProject/glove.6B.300d.txt'\n",
        "BATCH_SIZE = 32\n",
        "NUM_EVAL_BATCHES = 4\n",
        "NUM_HEADS = 10\n",
        "DROPOUT_RATE = 0.2\n",
        "\n",
        "START_CHAR = 'starttoken'\n",
        "END_CHAR = 'endtoken'\n",
        "PAD_CHAR = 'padtoken'\n",
        "\n",
        "MAX_ARTICLE_LEN = 300 # the article can have at most 300 tokens\n",
        "MAX_LABEL_LEN = 40 # labels can have at most 100 tokens\n",
        "\n",
        "# NN Hyper-parameters\n",
        "E_HIDDEN_DIM = 512\n",
        "D_HIDDEN_DIM = 512\n",
        "KEY_DIM = 64\n",
        "VALUE_DIM = 64\n",
        "LR = 1e-3\n",
        "\n",
        "EP = 10000\n",
        "PRINT_EVERY_EP = 200\n",
        "SAVE_MODEL_EVERY_EP = 5000\n",
        "FORCE_CREATE_DICT = True # force to recreate the word features from scratch, but doesn't recreate the embedding dict, since it doesn't change\n",
        "\n",
        "\n",
        "device = torch.device(\"cuda\" if torch.cuda.is_available() else \"cpu\")\n",
        "print(device)\n",
        "torch.cuda.empty_cache()"
      ],
      "execution_count": null,
      "outputs": [
        {
          "output_type": "display_data",
          "data": {
            "text/plain": [
              "<IPython.core.display.HTML object>"
            ],
            "text/html": [
              "\n",
              "  <style>\n",
              "    pre {\n",
              "        white-space: pre-wrap;\n",
              "    }\n",
              "  </style>\n",
              "  "
            ]
          },
          "metadata": {}
        },
        {
          "output_type": "stream",
          "name": "stdout",
          "text": [
            "cuda\n"
          ]
        }
      ]
    },
    {
      "cell_type": "markdown",
      "metadata": {
        "id": "5cdujyw4Tzcc"
      },
      "source": [
        "## Helper Functions\n",
        "Here's a breakdown of the helper functions described in the Python script, detailing each function's role:\n",
        "\n",
        "- **`create_word_vec(input_text, prefix='train')`**:\n",
        "  - Creates dictionaries for word-to-index and index-to-word mappings.\n",
        "\n",
        "- **`sentence_to_idx(sentence, word_to_idx)`**:\n",
        "  - Converts a given sentence pair (text and label) into index format using the provided word-to-index dictionary.\n",
        "\n",
        "- **`decontracted(text)`**:\n",
        "  - Cleans the text by expanding common English contractions and removing special characters to standardize the format for easier processing.\n",
        "\n",
        "\n",
        "- **`patch_trg(trg)`**:\n",
        "  - Adjusts the target data for training by creating a modified target sequence for decoder input and a gold standard sequence for loss calculation, aligning it with the output structure expected by sequence-to-sequence models.\n",
        "\n",
        "- **`plot(train_loss, val_loss)`**:\n",
        "  - Plots training and validation loss over epochs to visually monitor the learning progress and compare performance between the training and validation phases.\n",
        "\n",
        "\n",
        "\n",
        "\n",
        "\n",
        "\n"
      ]
    },
    {
      "cell_type": "code",
      "metadata": {
        "id": "ZfRERv1BT03_"
      },
      "source": [
        "#Convert sentences to vectors for input to the model\n",
        "def create_word_vec(input_text, prefix='train'):\n",
        "    word_idx_dict = {} # { word : the index of that word in the dictionary}\n",
        "    idx_word_dict = {} # { index of word : word }\n",
        "\n",
        "    # 1. Create mapping between words and the corresponding embedding values\n",
        "    embed_file_path = drive_prefix + f'{EMB_SIZE}d_embed_dict'\n",
        "    if os.path.exists(embed_file_path):\n",
        "        print('Embedding dictionary exists, loading from file...')\n",
        "        embedding_dict = pickle.load(open(embed_file_path, 'rb'))\n",
        "    else:\n",
        "        embedding_dict = {}\n",
        "\n",
        "        for line in glove:\n",
        "            tokens = line.split()\n",
        "            embedding_dict[tokens[0]] = np.array(tokens[1:], dtype='float32')\n",
        "        pickle.dump(embedding_dict, open(embed_file_path, 'wb'))\n",
        "        print('Saved embedding dictionary')\n",
        "\n",
        "    # 2. Tokenize the input_text and labels\n",
        "    if os.path.exists(drive_prefix + f'{prefix}_word_idx_dict') and not FORCE_CREATE_DICT:\n",
        "        print('Word-to-index dictionary exists, loading from file...')\n",
        "        word_idx_dict = pickle.load(open(drive_prefix + f'{prefix}_word_idx_dict', 'rb'))\n",
        "    if os.path.exists(drive_prefix + f'{prefix}_idx_word_dict') and not FORCE_CREATE_DICT:\n",
        "        print('Index-to-word dictionary exists, loading from file...')\n",
        "        idx_word_dict = pickle.load(open(drive_prefix + f'{prefix}_idx_word_dict', 'rb'))\n",
        "    else:\n",
        "        unique_tokens = set([])\n",
        "        for text, label in input_text:\n",
        "            unique_tokens = unique_tokens.union(word_tokenize(text))\n",
        "            unique_tokens = unique_tokens.union(word_tokenize(label))\n",
        "\n",
        "        for token in unique_tokens:\n",
        "            word_idx_dict[token] = len(word_idx_dict)\n",
        "\n",
        "        # 2.1 Add in the special tokens to the dictionary, note that the START_CHAR and END_CHAR have been added\n",
        "        # during the preprocessing stage\n",
        "        word_idx_dict[PAD_CHAR] = len(word_idx_dict)\n",
        "\n",
        "        idx_word_dict = dict(zip(word_idx_dict.values(), word_idx_dict.keys()))\n",
        "\n",
        "    # 3. Build the word vector for all the words in our dictionary\n",
        "    if os.path.exists(drive_prefix + f'{prefix}_word_vector') and not FORCE_CREATE_DICT:\n",
        "        print('Word Vector exists, loading from file...')\n",
        "        word_vector = pickle.load(open(drive_prefix + f'{prefix}_word_vector', 'rb'))\n",
        "    else:\n",
        "        word_vector = []\n",
        "        for idx, token in idx_word_dict.items():\n",
        "            if token in embedding_dict:\n",
        "                word_vector.append(embedding_dict[token])\n",
        "            # Append the special tokens to the word vector and assign random values\n",
        "            elif token in [START_CHAR, END_CHAR, PAD_CHAR]:\n",
        "                word_vector.append(np.random.normal(0, 1, EMB_SIZE))\n",
        "            # if the token doesn't have an embedding, we set to 0\n",
        "            else:\n",
        "                word_vector.append(np.zeros([EMB_SIZE]))\n",
        "\n",
        "    ## Save the dictionaries\n",
        "    pickle.dump(word_idx_dict, open(drive_prefix + f'{prefix}_word_idx_dict', 'wb'))\n",
        "    pickle.dump(idx_word_dict, open(drive_prefix + f'{prefix}_idx_word_dict', 'wb'))\n",
        "    pickle.dump(word_vector, open(drive_prefix + f'{prefix}_word_vector', 'wb'))\n",
        "\n",
        "    # The index in worvalue_dimec corresponds to the article index in the original X_Train array\n",
        "    return np.array(word_vector), word_idx_dict, idx_word_dict\n",
        "\n",
        "def sentence_to_idx(sentence, word_to_idx):\n",
        "    text, label = sentence\n",
        "    text_tokens = [word_to_idx[token] for token in word_tokenize(text)]\n",
        "    label_tokens = [word_to_idx[token] for token in word_tokenize(label)]\n",
        "    return np.array(text_tokens).astype(int), np.array(label_tokens).astype(int)\n",
        "\n",
        "def decontracted(text):\n",
        "    '''Clean text by removing unnecessary characters and altering the format of words.'''\n",
        "    text = text.lower()\n",
        "    text = re.sub(r\"i'm\", \"i am\", text)\n",
        "    text = re.sub(r\"he's\", \"he is\", text)\n",
        "    text = re.sub(r\"she's\", \"she is\", text)\n",
        "    text = re.sub(r\"it's\", \"it is\", text)\n",
        "    text = re.sub(r\"that's\", \"that is\", text)\n",
        "    text = re.sub(r\"what's\", \"that is\", text)\n",
        "    text = re.sub(r\"where's\", \"where is\", text)\n",
        "    text = re.sub(r\"how's\", \"how is\", text)\n",
        "    text = re.sub(r\"\\'ll\", \" will\", text)\n",
        "    text = re.sub(r\"\\'ve\", \" have\", text)\n",
        "    text = re.sub(r\"\\'re\", \" are\", text)\n",
        "    text = re.sub(r\"\\'d\", \" would\", text)\n",
        "    text = re.sub(r\"\\'re\", \" are\", text)\n",
        "    text = re.sub(r\"won't\", \"will not\", text)\n",
        "    text = re.sub(r\"can't\", \"cannot\", text)\n",
        "    text = re.sub(r\"n't\", \" not\", text)\n",
        "    text = re.sub(r\"n'\", \"ng\", text)\n",
        "    text = re.sub(r\"'bout\", \"about\", text)\n",
        "    text = re.sub(r\"'til\", \"until\", text)\n",
        "    text = re.sub(r\"[-()\\\"#/@;:<>{}`+=~|.!?,]\", \"\", text)\n",
        "    return text\n",
        "\n",
        "def _process(text):\n",
        "    text = decontracted(text)\n",
        "    text = text.replace('\\\\r', ' ')\n",
        "    text = text.replace('\\\\\"', ' ')\n",
        "    text = text.replace('\\\\n', ' ')\n",
        "    text = re.sub(r\"\\b[a-zA-Z]\\b\", \" \", text)\n",
        "    text = re.sub(\"^\\d+\\s|\\s\\d+\\s|\\s\\d+$\", \" \", text)\n",
        "    text = re.sub('[^A-Za-z0-9]+', ' ', text)\n",
        "    text = re.sub('<[^>]*>', '', text)\n",
        "    return text\n",
        "\n",
        "def pre_process(articles, labels):\n",
        "    preprocessed_text = []\n",
        "    # tqdm is for printing the status bar\n",
        "    for i in tqdm(range(len(articles))):\n",
        "        sent = articles[i]\n",
        "        label = labels[i]\n",
        "\n",
        "        sent = _process(sent)\n",
        "        label = _process(label)\n",
        "\n",
        "        sent = sent.lower().strip().split()\n",
        "        label = label.lower().strip().split()\n",
        "\n",
        "        # trim longer items and ignore shorter ones\n",
        "        if len(sent) < MAX_ARTICLE_LEN or len(label) < MAX_LABEL_LEN:\n",
        "            continue\n",
        "\n",
        "        sent = ' '.join(sent[:MAX_ARTICLE_LEN])\n",
        "        label = ' '.join(label[:MAX_LABEL_LEN])\n",
        "        label = f\"{START_CHAR} {label} {END_CHAR}\"\n",
        "        preprocessed_text.append([sent, label])\n",
        "    return preprocessed_text\n",
        "\n",
        "#divide batches of data\n",
        "def get_batch(data):\n",
        "    while True:\n",
        "        for i in range(int((data.shape[0] - BATCH_SIZE) / BATCH_SIZE)):\n",
        "            yield data[i * BATCH_SIZE: i * BATCH_SIZE + BATCH_SIZE]\n",
        "\n",
        "def patch_trg(trg):\n",
        "\n",
        "    trg = trg.to(device)\n",
        "    trg, gold = trg[:, :-1], trg[:, 1:].contiguous().view(-1)\n",
        "    return trg, gold\n",
        "\n",
        "\n",
        "#to plot the test and validation loss\n",
        "def plot(train_loss, val_loss):\n",
        "    plt.plot(train_loss, label='Train')\n",
        "    plt.plot(val_loss, label='Val')\n",
        "    plt.title('Training vs Validation Loss')\n",
        "    plt.xlabel('Episodes')\n",
        "    plt.ylabel('Loss')\n",
        "    plt.legend()\n",
        "    plt.show()"
      ],
      "execution_count": null,
      "outputs": []
    },
    {
      "cell_type": "markdown",
      "metadata": {
        "id": "B-YdYEh_T_Au"
      },
      "source": [
        "Divide the data into traina and validation set further"
      ]
    },
    {
      "cell_type": "code",
      "source": [
        "X_Train, X_Val, Y_Train, Y_Val = train_test_split(X, Y, test_size=0.3, shuffle=True)"
      ],
      "metadata": {
        "colab": {
          "base_uri": "https://localhost:8080/",
          "height": 17
        },
        "id": "jcNlesEOuJtl",
        "outputId": "c8c44839-81b7-4ef5-bbdf-0e2de6ed65c4"
      },
      "execution_count": null,
      "outputs": [
        {
          "output_type": "display_data",
          "data": {
            "text/plain": [
              "<IPython.core.display.HTML object>"
            ],
            "text/html": [
              "\n",
              "  <style>\n",
              "    pre {\n",
              "        white-space: pre-wrap;\n",
              "    }\n",
              "  </style>\n",
              "  "
            ]
          },
          "metadata": {}
        }
      ]
    },
    {
      "cell_type": "markdown",
      "source": [
        "Load the glove embeddings to be used for tokenization process"
      ],
      "metadata": {
        "id": "dGSFB2Y24FPT"
      }
    },
    {
      "cell_type": "code",
      "source": [
        "\n",
        "with open(GLOVE_EMB, 'r', encoding='utf-8') as f:\n",
        "    glove = f.readlines()"
      ],
      "metadata": {
        "colab": {
          "base_uri": "https://localhost:8080/",
          "height": 17
        },
        "id": "Wr5IT2mftFXa",
        "outputId": "3bbf90f6-1a97-4a95-ec01-a058c932e1fe"
      },
      "execution_count": null,
      "outputs": [
        {
          "output_type": "display_data",
          "data": {
            "text/plain": [
              "<IPython.core.display.HTML object>"
            ],
            "text/html": [
              "\n",
              "  <style>\n",
              "    pre {\n",
              "        white-space: pre-wrap;\n",
              "    }\n",
              "  </style>\n",
              "  "
            ]
          },
          "metadata": {}
        }
      ]
    },
    {
      "cell_type": "code",
      "source": [
        "# Combine training and validation datasets for features (articles)\n",
        "X = np.concatenate((X_Train, X_Val))\n",
        "\n",
        "# Combine training and validation datasets for labels (highlights)\n",
        "Y = np.concatenate((Y_Train, Y_Val))"
      ],
      "metadata": {
        "colab": {
          "base_uri": "https://localhost:8080/",
          "height": 17
        },
        "id": "2o2K23K7tPCi",
        "outputId": "6f28cdc1-4302-4d2f-bb74-c6f0391cc32e"
      },
      "execution_count": null,
      "outputs": [
        {
          "output_type": "display_data",
          "data": {
            "text/plain": [
              "<IPython.core.display.HTML object>"
            ],
            "text/html": [
              "\n",
              "  <style>\n",
              "    pre {\n",
              "        white-space: pre-wrap;\n",
              "    }\n",
              "  </style>\n",
              "  "
            ]
          },
          "metadata": {}
        }
      ]
    },
    {
      "cell_type": "markdown",
      "metadata": {
        "id": "G24UxWDIVH2e"
      },
      "source": [
        "## Features"
      ]
    },
    {
      "cell_type": "code",
      "metadata": {
        "colab": {
          "base_uri": "https://localhost:8080/",
          "height": 124
        },
        "id": "-FIsOKuqVHAF",
        "outputId": "196a8cf8-fa57-4132-cd0e-0afaf233c330"
      },
      "source": [
        "def get_features(processed_data, prefix):\n",
        "    # note that the prefix variable is only used for naming dictionaries that are\n",
        "    # saved to the disk\n",
        "    print(f'\\nTotal # of stories: {len(processed_data)}')\n",
        "    word_vector, word_idx_dict, idx_word_dict = create_word_vec(processed_data, prefix=prefix)\n",
        "    print(f'Word Vector Shape: {word_vector.shape}')\n",
        "    assert word_vector.shape == (len(idx_word_dict.keys()), EMB_SIZE)\n",
        "\n",
        "    return word_vector, word_idx_dict, idx_word_dict\n",
        "\n",
        "# USING THE CELL BELOW TO SPEED THINGS UP\n",
        "# # Full\n",
        "full_processed_data = pre_process(X, Y)\n",
        "full_word_vector, full_word_idx_dict, full_idx_word_dict = get_features(full_processed_data, prefix='train')\n",
        "\n",
        "# Training\n",
        "train_processed_data = pre_process(X_Train, Y_Train)\n",
        "\n"
      ],
      "execution_count": null,
      "outputs": [
        {
          "output_type": "display_data",
          "data": {
            "text/plain": [
              "<IPython.core.display.HTML object>"
            ],
            "text/html": [
              "\n",
              "  <style>\n",
              "    pre {\n",
              "        white-space: pre-wrap;\n",
              "    }\n",
              "  </style>\n",
              "  "
            ]
          },
          "metadata": {}
        },
        {
          "output_type": "stream",
          "name": "stderr",
          "text": [
            "100%|██████████| 100000/100000 [01:24<00:00, 1180.63it/s]\n"
          ]
        },
        {
          "output_type": "stream",
          "name": "stdout",
          "text": [
            "\n",
            "Total # of stories: 56304\n",
            "Embedding dictionary exists, loading from file...\n",
            "Word Vector Shape: (194444, 300)\n"
          ]
        },
        {
          "output_type": "stream",
          "name": "stderr",
          "text": [
            "100%|██████████| 70000/70000 [00:59<00:00, 1180.60it/s]\n"
          ]
        }
      ]
    },
    {
      "cell_type": "markdown",
      "source": [
        "Debugging"
      ],
      "metadata": {
        "id": "O7TADrLp4QDq"
      }
    },
    {
      "cell_type": "code",
      "source": [
        "tmp = []\n",
        "# for sentence in train_processed_data:\n",
        "#   tmp.append(sentence_to_idx(sentence, full_word_idx_dict))\n",
        "tmp = [sentence_to_idx(sentence, full_word_idx_dict) for sentence in train_processed_data]\n",
        "# tmp_np = np.array(tmp)\n",
        "type(tmp)\n",
        "\n",
        "print(type(tmp))\n",
        "print(type(tmp[0]))\n",
        "print(type(tmp[0][0]))\n",
        "print(type(tmp[0][0][0]))\n",
        "\n",
        "tmp_np = np.array(tmp, dtype=object)\n",
        "\n",
        "print(type(tmp_np))\n",
        "print(type(tmp_np[0]))\n",
        "print(type(tmp_np[0][0]))\n",
        "print(type(tmp_np[0][0][0]))"
      ],
      "metadata": {
        "id": "my86xqcmFb9i",
        "outputId": "eaa5b9c1-8de0-43a8-baee-8a4ccdb60126",
        "colab": {
          "base_uri": "https://localhost:8080/",
          "height": 160
        }
      },
      "execution_count": null,
      "outputs": [
        {
          "output_type": "display_data",
          "data": {
            "text/plain": [
              "<IPython.core.display.HTML object>"
            ],
            "text/html": [
              "\n",
              "  <style>\n",
              "    pre {\n",
              "        white-space: pre-wrap;\n",
              "    }\n",
              "  </style>\n",
              "  "
            ]
          },
          "metadata": {}
        },
        {
          "output_type": "stream",
          "name": "stdout",
          "text": [
            "<class 'list'>\n",
            "<class 'tuple'>\n",
            "<class 'numpy.ndarray'>\n",
            "<class 'numpy.int64'>\n",
            "<class 'numpy.ndarray'>\n",
            "<class 'numpy.ndarray'>\n",
            "<class 'numpy.ndarray'>\n",
            "<class 'numpy.int64'>\n"
          ]
        }
      ]
    },
    {
      "cell_type": "code",
      "source": [
        "# convert sentences into indicies corresponding to the word vector indices\n",
        "train_data_indices = np.array([sentence_to_idx(sentence, full_word_idx_dict) for sentence in train_processed_data], dtype=object)\n",
        "\n",
        "# Validation\n",
        "val_processed_data = pre_process(X_Val, Y_Val)\n",
        "val_data_indices = np.array([sentence_to_idx(sentence, full_word_idx_dict) for sentence in val_processed_data], dtype=object)"
      ],
      "metadata": {
        "id": "FFXgK2aZAYGK",
        "outputId": "a0431c22-808b-42d6-8a91-a07c38199c25",
        "colab": {
          "base_uri": "https://localhost:8080/",
          "height": 35
        }
      },
      "execution_count": null,
      "outputs": [
        {
          "output_type": "display_data",
          "data": {
            "text/plain": [
              "<IPython.core.display.HTML object>"
            ],
            "text/html": [
              "\n",
              "  <style>\n",
              "    pre {\n",
              "        white-space: pre-wrap;\n",
              "    }\n",
              "  </style>\n",
              "  "
            ]
          },
          "metadata": {}
        },
        {
          "output_type": "stream",
          "name": "stderr",
          "text": [
            "100%|██████████| 30000/30000 [00:25<00:00, 1188.12it/s]\n"
          ]
        }
      ]
    },
    {
      "cell_type": "code",
      "source": [
        "train_data_indices.shape"
      ],
      "metadata": {
        "id": "GW2BMXcHPy6X",
        "outputId": "799ac1ed-403c-42ee-8fe5-ea5477cb0f92",
        "colab": {
          "base_uri": "https://localhost:8080/",
          "height": 35
        }
      },
      "execution_count": null,
      "outputs": [
        {
          "output_type": "display_data",
          "data": {
            "text/plain": [
              "<IPython.core.display.HTML object>"
            ],
            "text/html": [
              "\n",
              "  <style>\n",
              "    pre {\n",
              "        white-space: pre-wrap;\n",
              "    }\n",
              "  </style>\n",
              "  "
            ]
          },
          "metadata": {}
        },
        {
          "output_type": "execute_result",
          "data": {
            "text/plain": [
              "(39436, 2)"
            ]
          },
          "metadata": {},
          "execution_count": 103
        }
      ]
    },
    {
      "cell_type": "code",
      "source": [
        "train_data_indices[:,1]"
      ],
      "metadata": {
        "id": "jNPboTcFNSG0"
      },
      "execution_count": null,
      "outputs": []
    },
    {
      "cell_type": "markdown",
      "source": [
        "\n",
        "# Padding and processing of data\n",
        "\n",
        "- **`pad_sequences(sequences, max_len, pad_value=0)`**:\n",
        "  - Pads each sequence in a list of sequences to a specified `max_len` using a `pad_value`, ensuring all sequences have the same length.\n",
        "  - Truncates sequences that exceed a predefined maximum length (`MAX_ARTICLE_LEN`).\n",
        "\n",
        "- **`process_and_pad_data(data, word_idx_dict)`**:\n",
        "  - Converts a list of textual data into indices using the `sentence_to_idx` function which relies on a provided `word_idx_dict`.\n",
        "  - Determines the maximum length of sequences in the dataset to ensure consistent padding.\n",
        "  - Separately pads text sequences and their corresponding labels to their respective maximum lengths.\n",
        "  - Combines the padded text and label sequences into a single array for easier manipulation and returns it.\n",
        "\n",
        "- **Data Caching and Loading Blocks**:\n",
        "  - These blocks check if processed data files exist for the full dataset, training, and validation sets.\n",
        "  - If processed data exists, it loads this data from files to avoid redundant processing.\n",
        "  - If it does not exist, it processes the respective datasets (`X`, `Y`, `X_Train`, `Y_Train`, `X_Val`, `Y_Val`) using the `pre_process` function to standardize and trim the text, then processes and pads this data using `process_and_pad_data`.\n",
        "  - The processed data is then saved to files to expedite future access.\n"
      ],
      "metadata": {
        "id": "4BxOCg2PaSnU"
      }
    },
    {
      "cell_type": "code",
      "source": [
        "def pad_sequences(sequences, max_len, pad_value=0):\n",
        "    \"\"\" Pad sequences to the same length with pad_value. \"\"\"\n",
        "    padded_sequences = []\n",
        "    for seq in sequences:\n",
        "        padded = list(seq) + [pad_value] * (max_len - len(seq))\n",
        "        if len(padded) > MAX_ARTICLE_LEN:\n",
        "            padded = padded[0:MAX_ARTICLE_LEN]\n",
        "        padded_sequences.append(np.array(padded, dtype=int))\n",
        "    return np.array(padded_sequences)\n",
        "\n",
        "def process_and_pad_data(data, word_idx_dict):\n",
        "    # Convert sentences to indices and find maximum sequence length\n",
        "    data_indices = [sentence_to_idx(sentence, word_idx_dict) for sentence in data]\n",
        "    # print(len(data_indices))\n",
        "    # print(len(data_indices[0]))\n",
        "    max_len = max(len(indices[0]) for indices in data_indices)  # Assuming [0] is the sequence of interest\n",
        "    # print(max_len)\n",
        "    max_len_2 = max(len(indices[1]) for indices in data_indices)\n",
        "    # print(max_len_2)\n",
        "\n",
        "    x_tmp = pad_sequences([indices[0] for indices in data_indices], max_len)\n",
        "    y_tmp = pad_sequences([indices[1] for indices in data_indices], max_len_2)\n",
        "    result = []\n",
        "    for i in range(len(x_tmp)):\n",
        "        result.append([x_tmp[i], y_tmp[i]])\n",
        "\n",
        "        # np.array(text_tokens).astype(int), np.array(label_tokens).astype(int)\n",
        "    result = np.array(result, dtype=object)\n",
        "    # print(f'x_tmp shape:{x_tmp.shape}')\n",
        "    # print(f'y_tmp shape:{y_tmp.shape}')\n",
        "    # print(f'result shape:{result.shape}')\n",
        "    return result\n",
        "    # for sentence in data_indices:\n",
        "\n",
        "\n",
        "        # result.append(np.array([pad_sequences([indices[0] for indices in data_indices], max_len), pad_sequences([indices[1] for indices in data_indices], max_len_2)], dtype=object))\n",
        "\n",
        "    # Pad sequences and return\n",
        "    # return np.array(result)\n",
        "    # return pad_sequences([indices[0] for indices in data_indices], max_len)\n",
        "\n",
        "# Check for existing data or process new data\n",
        "if os.path.exists(drive_prefix + 'full_processed_data'):\n",
        "    print('full_processed_data exists, loading from file...')\n",
        "    full_processed_data = pickle.load(open(drive_prefix + 'full_processed_data', 'rb'))\n",
        "else:\n",
        "    full_processed_data = pre_process(X, Y)\n",
        "    full_word_vector, full_word_idx_dict, full_idx_word_dict = get_features(full_processed_data, prefix='train')\n",
        "\n",
        "if os.path.exists(drive_prefix + 'train_processed_data'):\n",
        "    print('train_processed_data exists, loading from file...')\n",
        "    train_processed_data = pickle.load(open(drive_prefix + 'train_processed_data', 'rb'))\n",
        "else:\n",
        "    train_processed_data = pre_process(X_Train, Y_Train)  # Assuming X_Train and Y_Train are defined somewhere\n",
        "    # train_data_indices = np.array([sentence_to_idx(sentence, full_word_idx_dict) for sentence in train_processed_data], dtype=object)\n",
        "    train_data_indices = process_and_pad_data(train_processed_data, full_word_idx_dict)\n",
        "\n",
        "if os.path.exists(drive_prefix + 'val_processed_data'):\n",
        "    print('val_processed_data exists, loading from file...')\n",
        "    val_processed_data = pickle.load(open(drive_prefix + 'val_processed_data', 'rb'))\n",
        "else:\n",
        "    val_processed_data = pre_process(X_Val, Y_Val)  # Assuming X_Val and Y_Val are defined somewhere\n",
        "    # val_data_indices = np.array([sentence_to_idx(sentence, full_word_idx_dict) for sentence in val_processed_data], dtype=object)\n",
        "    val_data_indices = process_and_pad_data(val_processed_data, full_word_idx_dict)\n"
      ],
      "metadata": {
        "colab": {
          "base_uri": "https://localhost:8080/",
          "height": 142
        },
        "id": "IGJzbc8KxCBR",
        "outputId": "408f59e4-5033-4e57-e7e5-204aed4bd7f8"
      },
      "execution_count": null,
      "outputs": [
        {
          "output_type": "display_data",
          "data": {
            "text/plain": [
              "<IPython.core.display.HTML object>"
            ],
            "text/html": [
              "\n",
              "  <style>\n",
              "    pre {\n",
              "        white-space: pre-wrap;\n",
              "    }\n",
              "  </style>\n",
              "  "
            ]
          },
          "metadata": {}
        },
        {
          "output_type": "stream",
          "name": "stderr",
          "text": [
            "100%|██████████| 100000/100000 [01:24<00:00, 1177.39it/s]\n"
          ]
        },
        {
          "output_type": "stream",
          "name": "stdout",
          "text": [
            "\n",
            "Total # of stories: 56304\n",
            "Embedding dictionary exists, loading from file...\n",
            "Word Vector Shape: (194444, 300)\n"
          ]
        },
        {
          "output_type": "stream",
          "name": "stderr",
          "text": [
            "100%|██████████| 70000/70000 [01:00<00:00, 1160.28it/s]\n",
            "100%|██████████| 30000/30000 [00:26<00:00, 1142.69it/s]\n"
          ]
        }
      ]
    },
    {
      "cell_type": "code",
      "source": [
        "# train_data_indices.shape"
      ],
      "metadata": {
        "id": "RNxMzIdaP5eR",
        "outputId": "9a3a22cf-86b7-4981-8149-a05b92ee116f",
        "colab": {
          "base_uri": "https://localhost:8080/",
          "height": 34
        }
      },
      "execution_count": null,
      "outputs": [
        {
          "output_type": "display_data",
          "data": {
            "text/plain": [
              "<IPython.core.display.HTML object>"
            ],
            "text/html": [
              "\n",
              "  <style>\n",
              "    pre {\n",
              "        white-space: pre-wrap;\n",
              "    }\n",
              "  </style>\n",
              "  "
            ]
          },
          "metadata": {}
        },
        {
          "output_type": "execute_result",
          "data": {
            "text/plain": [
              "(283, 2)"
            ]
          },
          "metadata": {},
          "execution_count": 119
        }
      ]
    },
    {
      "cell_type": "code",
      "source": [
        "# train_data_indices[:,1][2]"
      ],
      "metadata": {
        "id": "Bh_iWioPX8-5",
        "outputId": "a216b5f2-ecc3-4db0-a32d-ab56bc441a97",
        "colab": {
          "base_uri": "https://localhost:8080/",
          "height": 104
        }
      },
      "execution_count": null,
      "outputs": [
        {
          "output_type": "display_data",
          "data": {
            "text/plain": [
              "<IPython.core.display.HTML object>"
            ],
            "text/html": [
              "\n",
              "  <style>\n",
              "    pre {\n",
              "        white-space: pre-wrap;\n",
              "    }\n",
              "  </style>\n",
              "  "
            ]
          },
          "metadata": {}
        },
        {
          "output_type": "execute_result",
          "data": {
            "text/plain": [
              "array([12335, 11746,  8714, 11817,  7964, 12248,  7836,  9979,  9792,\n",
              "       14516,   782, 10508, 13527,  8217,   617, 13620,  2845,  1492,\n",
              "       10335, 13620,  2240,  8786, 12248,  5104,  3987,  1943,  7766,\n",
              "        6397, 13307,  7964, 10614,  9979,   774,  7739, 10270,  5424,\n",
              "        7796, 11596,  3459,  3964,  5614, 14114,     0])"
            ]
          },
          "metadata": {},
          "execution_count": 121
        }
      ]
    },
    {
      "cell_type": "markdown",
      "source": [
        "Save all the processed data in the google drive"
      ],
      "metadata": {
        "id": "7oHlqjbA4aKY"
      }
    },
    {
      "cell_type": "code",
      "metadata": {
        "colab": {
          "base_uri": "https://localhost:8080/",
          "height": 17
        },
        "id": "wrwbrm_sAtye",
        "outputId": "ce114559-3b33-441a-9ddc-fa161fafd2db"
      },
      "source": [
        "## Using this to speed things up\n",
        "def dump(data, name):\n",
        "    pickle.dump(data, open(drive_prefix + name, 'wb'))\n",
        "\n",
        "dump(full_processed_data, 'full_processed_data')\n",
        "dump(train_processed_data, 'train_processed_data')\n",
        "dump(train_data_indices, 'train_data_indices')\n",
        "dump(val_processed_data, 'val_processed_data')\n",
        "dump(val_data_indices, 'val_data_indices')"
      ],
      "execution_count": null,
      "outputs": [
        {
          "output_type": "display_data",
          "data": {
            "text/plain": [
              "<IPython.core.display.HTML object>"
            ],
            "text/html": [
              "\n",
              "  <style>\n",
              "    pre {\n",
              "        white-space: pre-wrap;\n",
              "    }\n",
              "  </style>\n",
              "  "
            ]
          },
          "metadata": {}
        }
      ]
    },
    {
      "cell_type": "code",
      "metadata": {
        "colab": {
          "base_uri": "https://localhost:8080/",
          "height": 35
        },
        "id": "LBGH5Cdbou90",
        "outputId": "5c104e5f-30fe-4ca6-a357-57e558a01fa4"
      },
      "source": [
        "#sanity check\n",
        "val_data_indices.shape"
      ],
      "execution_count": null,
      "outputs": [
        {
          "output_type": "display_data",
          "data": {
            "text/plain": [
              "<IPython.core.display.HTML object>"
            ],
            "text/html": [
              "\n",
              "  <style>\n",
              "    pre {\n",
              "        white-space: pre-wrap;\n",
              "    }\n",
              "  </style>\n",
              "  "
            ]
          },
          "metadata": {}
        },
        {
          "output_type": "execute_result",
          "data": {
            "text/plain": [
              "(16868, 2)"
            ]
          },
          "metadata": {},
          "execution_count": 106
        }
      ]
    },
    {
      "cell_type": "markdown",
      "metadata": {
        "id": "r78iOpGUWJNG"
      },
      "source": [
        "## Model\n",
        "- **Embedding Layers**:\n",
        "  - Uses a pre-trained word vector to create an embedding layer that maps each token in the input sequences to a high-dimensional space.\n",
        "\n",
        "- **Encoder and Decoder Architecture**:\n",
        "  - **Encoder**: Consists of multiple layers, each containing a multi-head self-attention mechanism that allows the encoder to attend to different parts of the input sequence simultaneously. Also, it includes a position-wise feed-forward network that applies a simple neural network to each position.\n",
        "  - **Decoder**: It is just like the encoder, but includes an extra cross-attention step where the decoder attends to the encoder's output.\n",
        "\n",
        "- **Attention Mechanisms**:\n",
        "  - Implements scaled dot-product attention, which calculates attention scores by considering how much focus to place on other parts of the input sequence for each token in the output sequence.\n",
        "  - Uses masking in the attention layers to ensure predictions for a particular position can only consider positions before it.\n",
        "\n",
        "\n",
        "- **Output Generation**:\n",
        "  - After processing through the decoder, the output is passed through a linear layer that projects the decoder's high-dimensional token representations back into the vocabulary space.\n",
        "  - This step converts the decoder output into logits representing the likelihood of each vocabulary token being the next token in the output sequence.\n",
        "\n",
        "- **Masking and Probabilities**:\n",
        "  - Applies padding masks to ignore unused portions of the input batch  and uses future sequence masking to prevent the decoder from \"seeing\" future tokens prematurely during training.\n",
        "  - Generates initial probability distributions for the start of decoding to ensure that the model starts generating output from a standard initial state.\n",
        "\n",
        "\n"
      ]
    },
    {
      "cell_type": "code",
      "metadata": {
        "colab": {
          "base_uri": "https://localhost:8080/",
          "height": 17
        },
        "id": "sSadtseMWLSZ",
        "outputId": "97c06a76-8ba7-4e57-de7a-cbc7b684ebb5"
      },
      "source": [
        "# Create the embedding layer weights based on the pre-trained word vector\n",
        "def create_pretrained_emb_layer(word_vector):\n",
        "    # vocab_size, embed_dim = word_vector.shape\n",
        "    embed_layer = nn.Embedding.from_pretrained(torch.tensor(word_vector).float(), freeze=False)\n",
        "    return embed_layer\n",
        "\n",
        "def get_pad_mask(seq, pad_idx):\n",
        "    return (seq != pad_idx).unsqueeze(-2)\n",
        "\n",
        "class PositionEmbedding(nn.Module):\n",
        "    def __init__(self, dropout=DROPOUT_RATE, max_len=500):\n",
        "        super(PositionEmbedding, self).__init__()\n",
        "\n",
        "        self.dropout = nn.Dropout(dropout)\n",
        "        self.pos_embedding = self.compute_pos_embedding(max_len)\n",
        "\n",
        "    def compute_pos_embedding(self, max_len):\n",
        "\n",
        "        pos = torch.arange(max_len).unsqueeze(1)\n",
        "        index = torch.arange(EMB_SIZE).unsqueeze(0)\n",
        "        angles = 1 / np.power(10000, (2 * (index // 2)) / np.float32(EMB_SIZE))\n",
        "\n",
        "        pos_to_angle = pos * angles\n",
        "\n",
        "        # apply sin to even indices in the array; 2i\n",
        "        pos_to_angle[:, 0::2] = np.sin(pos_to_angle[:, 0::2])\n",
        "\n",
        "        # apply cos to odd indices in the array; 2i+1\n",
        "        pos_to_angle[:, 1::2] = np.cos(pos_to_angle[:, 1::2])\n",
        "\n",
        "        # pos_embedding = pos_to_angle.unsqueeze(0).transpose(0, 1)\n",
        "        pos_embedding = pos_to_angle.unsqueeze(0)\n",
        "\n",
        "        return torch.FloatTensor(pos_embedding).to(device)\n",
        "\n",
        "    def forward(self, x):\n",
        "        print(x.shape)\n",
        "        print(self.pos_embedding[:, :x.shape[1]].clone().detach().shape)\n",
        "        x += self.pos_embedding[:, :x.shape[1]].clone().detach() # adding another feature to the word embedding\n",
        "        return self.dropout(x)\n",
        "\n",
        "class PositionwiseFeedForward(nn.Module):\n",
        "    def __init__(self, d_in, hidden_dim, dropout=DROPOUT_RATE):\n",
        "        super(PositionwiseFeedForward, self).__init__()\n",
        "        self.pos1 = nn.Linear(d_in, hidden_dim)\n",
        "        self.pos2 = nn.Linear(hidden_dim, d_in)\n",
        "        self.relu = nn.ReLU()\n",
        "        self.normalization = nn.LayerNorm(d_in, eps=1e-6)\n",
        "        self.dropout = nn.Dropout(dropout)\n",
        "\n",
        "    def forward(self, x):\n",
        "\n",
        "        residual = x\n",
        "        out = self.pos1(x)\n",
        "        out = self.relu(out)\n",
        "        out = self.pos2(out)\n",
        "        out = self.dropout(out)\n",
        "        out += residual\n",
        "\n",
        "        out = self.normalization(out)\n",
        "\n",
        "        return out\n",
        "\n",
        "class ScaledDotProductAttention(nn.Module):\n",
        "    def __init__(self, temperature, attn_dropout=DROPOUT_RATE):\n",
        "        super(ScaledDotProductAttention, self).__init__()\n",
        "        self.temperature = temperature\n",
        "        self.dropout = nn.Dropout(attn_dropout)\n",
        "        self.softmax = nn.Softmax(dim=-1)\n",
        "\n",
        "    def forward(self, q, k, v, mask):\n",
        "\n",
        "        attn = torch.matmul(q / self.temperature, k.transpose(2, 3))\n",
        "\n",
        "        attn = attn.masked_fill(mask == 0, -1e7)\n",
        "\n",
        "        attn = self.softmax(attn)\n",
        "\n",
        "        return torch.matmul(attn, v), self.dropout(attn)\n",
        "\n",
        "\n",
        "class MultiHeadAttention(nn.Module):\n",
        "    def __init__(self, n_head, key_dim, value_dim, dropout=DROPOUT_RATE):\n",
        "        super().__init__()\n",
        "\n",
        "        self.n_head = n_head\n",
        "        self.key_dim = key_dim\n",
        "        self.value_dim = value_dim\n",
        "\n",
        "        self.query_layer = nn.Linear(EMB_SIZE, n_head * key_dim, bias=False)\n",
        "        self.key_layer = nn.Linear(EMB_SIZE, n_head * key_dim, bias=False)\n",
        "        self.value_layer = nn.Linear(EMB_SIZE, n_head * value_dim, bias=False)\n",
        "        self.fc = nn.Linear(n_head * value_dim, EMB_SIZE, bias=False)\n",
        "\n",
        "        self.attention = ScaledDotProductAttention(temperature=key_dim ** 0.5).to(device)\n",
        "\n",
        "        self.dropout = nn.Dropout(dropout)\n",
        "        self.layer_norm = nn.LayerNorm(EMB_SIZE, eps=1e-6)\n",
        "\n",
        "\n",
        "    def forward(self, q, k, v, attn_mask):\n",
        "\n",
        "        key_dim, value_dim, n_head = self.key_dim, self.value_dim, self.n_head\n",
        "        batch_size, q_len = q.size(0), q.size(1)\n",
        "        k_len = k.size(1)\n",
        "        v_len = v.size(1)\n",
        "\n",
        "        residual = q\n",
        "\n",
        "        q = self.query_layer(q).view(batch_size, q_len, n_head, key_dim)\n",
        "        k = self.key_layer(k).view(batch_size, k_len, n_head, key_dim)\n",
        "        v = self.value_layer(v).view(batch_size, v_len, n_head, value_dim)\n",
        "\n",
        "        q, k, v = q.transpose(1, 2), k.transpose(1, 2), v.transpose(1, 2)\n",
        "\n",
        "        attn_mask = attn_mask.unsqueeze(1)\n",
        "\n",
        "        q, attn = self.attention(q, k, v, mask=attn_mask)\n",
        "\n",
        "        q = q.transpose(1, 2).contiguous().view(batch_size, q_len, -1)\n",
        "        q = self.fc(q)\n",
        "        q = self.dropout(q)\n",
        "        q += residual\n",
        "\n",
        "        q = self.layer_norm(q)\n",
        "\n",
        "        return q, attn\n",
        "\n",
        "\n",
        "class EncoderLayer(nn.Module):\n",
        "    def __init__(self, d_inner, n_head, key_dim, value_dim, dropout=DROPOUT_RATE):\n",
        "        super(EncoderLayer, self).__init__()\n",
        "        self.slf_attn = MultiHeadAttention(n_head=n_head, key_dim=key_dim, value_dim=value_dim, dropout=dropout).to(device)\n",
        "        self.pos_ffn = PositionwiseFeedForward(EMB_SIZE, d_inner, dropout=dropout).to(device)\n",
        "\n",
        "    def forward(self, enc_input, mask=None):\n",
        "        enc_output, enc_slf_attn = self.slf_attn(enc_input, enc_input, enc_input, attn_mask=mask)\n",
        "        enc_output = self.pos_ffn(enc_output)\n",
        "        return enc_output, enc_slf_attn\n",
        "\n",
        "class DecoderLayer(nn.Module):\n",
        "    def __init__(self, d_model, d_inner, n_head, key_dim, value_dim, dropout=DROPOUT_RATE):\n",
        "        super(DecoderLayer, self).__init__()\n",
        "        self.slf_attn = MultiHeadAttention(n_head, key_dim, value_dim, dropout=dropout).to(device)\n",
        "        self.enc_attn = MultiHeadAttention(n_head, key_dim, value_dim, dropout=dropout).to(device)\n",
        "        self.pos_ffn = PositionwiseFeedForward(d_model, d_inner, dropout=dropout).to(device)\n",
        "\n",
        "    def forward(self, d_in, e_out,y_mask=None, x_mask=None):\n",
        "        d_out, d_slf_attn = self.slf_attn(d_in, d_in, d_in, attn_mask=y_mask)\n",
        "        d_out, d_e_attn = self.enc_attn(d_out, e_out, e_out, attn_mask=x_mask)\n",
        "        d_out = self.pos_ffn(d_out)\n",
        "        return d_out, d_slf_attn, d_e_attn\n",
        "\n",
        "\n",
        "class Decoder(nn.Module):\n",
        "    def __init__(self, n_layers, n_head, key_dim, value_dim,d_model, d_inner, dropout=DROPOUT_RATE):\n",
        "        super(Decoder, self).__init__()\n",
        "\n",
        "        self.dropout = nn.Dropout(p=dropout)\n",
        "        self.layer_stack = nn.ModuleList([DecoderLayer(d_model, d_inner, n_head, key_dim, value_dim, dropout=dropout).to(device) for _ in range(n_layers)])\n",
        "        self.layer_norm = nn.LayerNorm(d_model, eps=1e-6)\n",
        "\n",
        "    def forward(self, y, y_mask, e_out, x_mask):\n",
        "        d_out = self.dropout(y)\n",
        "        d_out = self.layer_norm(d_out)\n",
        "        for dec_layer in self.layer_stack:\n",
        "            d_out, dec_slf_attn, dec_enc_attn = dec_layer(d_out, e_out, y_mask=y_mask, x_mask=x_mask)\n",
        "\n",
        "        return d_out,\n",
        "\n",
        "\n",
        "class Encoder(nn.Module):\n",
        "    def __init__(self, n_layers, n_head, key_dim, value_dim, dropout=DROPOUT_RATE):\n",
        "        super(Encoder, self).__init__()\n",
        "        self.dropout = nn.Dropout(dropout)\n",
        "        self.layers = nn.ModuleList([ EncoderLayer(E_HIDDEN_DIM, n_head, key_dim, value_dim, dropout=dropout).to(device) for _ in range(n_layers)])\n",
        "        self.normalization = nn.LayerNorm(EMB_SIZE, eps=1e-6)\n",
        "\n",
        "    def forward(self, x, x_mask):\n",
        "        e_out = self.dropout(x)\n",
        "        e_out = self.normalization(e_out)\n",
        "\n",
        "        for enc_layer in self.layers:\n",
        "            e_out, enc_slf_attn = enc_layer(e_out, mask=x_mask)\n",
        "\n",
        "        return e_out,\n",
        "\n",
        "class Transformer(nn.Module):\n",
        "    def __init__(self, num_heads, word_vector, word_idx_dict, idx_word_dict):\n",
        "        super(Transformer, self).__init__()\n",
        "        self.word_idx_dict = word_idx_dict\n",
        "        self.pos_embedding = PositionEmbedding(max_len=MAX_ARTICLE_LEN, dropout=DROPOUT_RATE).to(device)\n",
        "        self.word_embedding = create_pretrained_emb_layer(word_vector).to(device)\n",
        "\n",
        "        self.encoder = Encoder(n_layers=3, n_head=num_heads, key_dim=KEY_DIM, value_dim=VALUE_DIM, dropout=DROPOUT_RATE).to(device)\n",
        "        self.decoder = Decoder(n_layers=3, n_head=num_heads, key_dim=KEY_DIM, value_dim=VALUE_DIM, d_model=EMB_SIZE, d_inner=D_HIDDEN_DIM, dropout=DROPOUT_RATE).to(device)\n",
        "\n",
        "        self.initial_probs = self.get_initial_probs(word_vector.shape[0], word_idx_dict[START_CHAR])\n",
        "\n",
        "        self.fc_to_logits = nn.Linear(EMB_SIZE, len(idx_word_dict), bias=False)\n",
        "\n",
        "\n",
        "    def mask_future_seq(self, seq):\n",
        "        # Our attention is focused only allowed on the past sequence, so we mask\n",
        "        sz_b, len_s = seq.size()\n",
        "        subsequent_mask = (1 - torch.triu(torch.ones((1, len_s, len_s), device=seq.device), diagonal=1)).bool()\n",
        "        return subsequent_mask\n",
        "\n",
        "    def get_initial_probs(self, vocab_size, initial_token_idx):\n",
        "        probs = torch.zeros(1, vocab_size)\n",
        "        probs[0, initial_token_idx] = 1\n",
        "        return probs.float()\n",
        "\n",
        "    def forward(self, x, y):\n",
        "        x_mask = get_pad_mask(x, self.word_idx_dict[PAD_CHAR])\n",
        "        y_mask = get_pad_mask(y, self.word_idx_dict[PAD_CHAR]) & self.mask_future_seq(y)\n",
        "\n",
        "        x = self.word_embedding(x)\n",
        "        x = self.pos_embedding(x)\n",
        "\n",
        "        y = self.word_embedding(y)\n",
        "        y = self.pos_embedding(y)\n",
        "\n",
        "\n",
        "        # x = (batchsize, seqlen, embed dim)\n",
        "        # y.shape = (batchsize, seqlen)\n",
        "\n",
        "        # x_mask = (batchsize, 1, sequence length)\n",
        "        # y_mask = (batchsize, sequence length, sequence length)\n",
        "        # e_output = (batchsize, sequence length, embedding dimension)\n",
        "        # d_output = (batchsize, sequence length, embedding dimension)\n",
        "\n",
        "        e_out, *_ = self.encoder(x, x_mask)\n",
        "        d_out, *_ = self.decoder(y, y_mask, e_out, x_mask)\n",
        "\n",
        "        # self.fc_to_logits(dec_output) = (batchsize, seqlen, vocab len)\n",
        "        logits = self.fc_to_logits(d_out) * 1 # no weight sharing\n",
        "\n",
        "        return logits.view(-1, logits.size(2))"
      ],
      "execution_count": null,
      "outputs": [
        {
          "output_type": "display_data",
          "data": {
            "text/plain": [
              "<IPython.core.display.HTML object>"
            ],
            "text/html": [
              "\n",
              "  <style>\n",
              "    pre {\n",
              "        white-space: pre-wrap;\n",
              "    }\n",
              "  </style>\n",
              "  "
            ]
          },
          "metadata": {}
        }
      ]
    },
    {
      "cell_type": "markdown",
      "source": [
        "# Optimizer"
      ],
      "metadata": {
        "id": "l-iFDGw2NX8v"
      }
    },
    {
      "cell_type": "code",
      "metadata": {
        "colab": {
          "base_uri": "https://localhost:8080/",
          "height": 17
        },
        "id": "dVKUFPHn5p_O",
        "outputId": "3012d599-c20d-4fb5-9f7c-b76834f9dac1"
      },
      "source": [
        "# Reference: https://github.com/jadore801120/attention-is-all-you-need-pytorch/blob/fec78a687210851f055f792d45300d27cc60ae41/transformer/Optim.py#L4\n",
        "class ScheduledOptim():\n",
        "    '''A simple wrapper class for learning rate scheduling'''\n",
        "\n",
        "    def __init__(self, optimizer, init_lr, d_model, n_warmup_steps):\n",
        "        self._optimizer = optimizer\n",
        "        self.init_lr = init_lr\n",
        "        self.d_model = d_model\n",
        "        self.n_warmup_steps = n_warmup_steps\n",
        "        self.n_steps = 0\n",
        "\n",
        "\n",
        "    def step_and_update_lr(self):\n",
        "        \"Step with the inner optimizer\"\n",
        "        self._update_learning_rate()\n",
        "        self._optimizer.step()\n",
        "\n",
        "\n",
        "    def zero_grad(self):\n",
        "        \"Zero out the gradients with the inner optimizer\"\n",
        "        self._optimizer.zero_grad()\n",
        "\n",
        "\n",
        "    def _get_lr_scale(self):\n",
        "        d_model = self.d_model\n",
        "        n_steps, n_warmup_steps = self.n_steps, self.n_warmup_steps\n",
        "        return (d_model ** -0.5) * min(n_steps ** (-0.5), n_steps * n_warmup_steps ** (-1.5))\n",
        "\n",
        "\n",
        "    def _update_learning_rate(self):\n",
        "        ''' Learning rate scheduling per step '''\n",
        "\n",
        "        self.n_steps += 1\n",
        "        lr = self.init_lr * self._get_lr_scale()\n",
        "\n",
        "        for param_group in self._optimizer.param_groups:\n",
        "            param_group['lr'] = lr"
      ],
      "execution_count": null,
      "outputs": [
        {
          "output_type": "display_data",
          "data": {
            "text/plain": [
              "<IPython.core.display.HTML object>"
            ],
            "text/html": [
              "\n",
              "  <style>\n",
              "    pre {\n",
              "        white-space: pre-wrap;\n",
              "    }\n",
              "  </style>\n",
              "  "
            ]
          },
          "metadata": {}
        }
      ]
    },
    {
      "cell_type": "markdown",
      "metadata": {
        "id": "2G5ViZ0Ooh7X"
      },
      "source": [
        "## Train Functions"
      ]
    },
    {
      "cell_type": "code",
      "metadata": {
        "colab": {
          "base_uri": "https://localhost:8080/",
          "height": 17
        },
        "id": "Rp0Sc004J8Fw",
        "outputId": "7e5c35f9-7d1f-4207-a434-f0df2d4fec77"
      },
      "source": [
        "def _construct_summary(tokens, mapping):\n",
        "    summary = []\n",
        "    for token in tokens:\n",
        "        token = token.item()\n",
        "        if token in mapping and mapping[token] != PAD_CHAR:\n",
        "            summary.append(mapping[token])\n",
        "    return summary\n",
        "\n",
        "def one_pass(x, y, gold, model, optim, criterion):\n",
        "    optim.zero_grad()\n",
        "\n",
        "    y_hat = model.forward(x, y) # (batchsize * seq len, vocab size)\n",
        "\n",
        "\n",
        "    alpha = 0.1\n",
        "    n_class = y_hat.size(1)\n",
        "\n",
        "    y_hat_hot = torch.zeros_like(y_hat).scatter(1, gold.view(-1, 1), 1)\n",
        "    y_hat_smooth = (1 - alpha) * y_hat_hot + (1 - y_hat_hot) * alpha / (n_class - 1) # y_ls = (1 - α) * y_hot + α / K\n",
        "    log_prb = F.log_softmax(y_hat, dim=1)\n",
        "\n",
        "    non_pad_mask = gold.ne(full_word_idx_dict[PAD_CHAR])\n",
        "    loss = -(y_hat_smooth * log_prb).sum(dim=1)\n",
        "    loss = loss.masked_select(non_pad_mask).sum()\n",
        "\n",
        "    pred = y_hat.max(1)[1]\n",
        "\n",
        "    pred_summary = ' '.join(_construct_summary(pred, full_idx_word_dict)[1:-1])\n",
        "    true_summary = ' '.join(_construct_summary(y.contiguous().view(-1), full_idx_word_dict)[1:-1])\n",
        "\n",
        "    loss.backward()\n",
        "    torch.nn.utils.clip_grad_norm_(model.parameters(), 1)\n",
        "\n",
        "    # optim.step() #using lr-scheduler outside in train()\n",
        "    optim.step_and_update_lr() # custom lr scheduler\n",
        "\n",
        "\n",
        "    return loss, true_summary, pred_summary\n",
        "\n",
        "## Evaluation One Pass\n",
        "def one_pass_eval(model, criterion):\n",
        "    model.eval()\n",
        "    np.random.shuffle(val_data_indices)\n",
        "    val_loader = get_batch(val_data_indices)\n",
        "    eval_loss = 0\n",
        "    eval_pass_pred = []\n",
        "    eval_pass_true = []\n",
        "    for _ in range(NUM_EVAL_BATCHES):\n",
        "        data = val_loader.__next__()\n",
        "        x, y = np.array(data[:, 0]), np.array(data[:, 1])\n",
        "        # print(data)\n",
        "        # print(x)\n",
        "        # print(y)\n",
        "        x = torch.tensor(np.array([x[i] for i in range(len(x))])).long()\n",
        "        y = torch.tensor(np.array([y[i] for i in range(len(y))])).long()\n",
        "        # print(data)\n",
        "        # print(x)\n",
        "        # print(y)\n",
        "\n",
        "        x = x.to(device)\n",
        "        y, gold = map(lambda x: x.to(device), patch_trg(y))\n",
        "        y = y.to(device)\n",
        "\n",
        "        with torch.no_grad():\n",
        "            y_hat = model.forward(x, y) # (batchsize * seq len, vocab size)\n",
        "\n",
        "            # loss = criterion(y_hat, gold)\n",
        "            alpha = 0.1\n",
        "            n_class = y_hat.size(1)\n",
        "\n",
        "            y_hat_hot = torch.zeros_like(y_hat).scatter(1, gold.view(-1, 1), 1)\n",
        "            y_hat_smooth = (1 - alpha) * y_hat_hot + (1 - y_hat_hot) * alpha / (n_class - 1) # y_ls = (1 - α) * y_hot + α / K\n",
        "            log_prb = F.log_softmax(y_hat, dim=1)\n",
        "\n",
        "            non_pad_mask = gold.ne(full_word_idx_dict[PAD_CHAR])\n",
        "            loss = -(y_hat_smooth * log_prb).sum(dim=1)\n",
        "            loss = loss.masked_select(non_pad_mask).sum()\n",
        "            pred = y_hat.max(1)[1]\n",
        "            temp_loss = loss.item()/BATCH_SIZE\n",
        "            eval_loss += temp_loss\n",
        "\n",
        "    model.train()\n",
        "    eval_loss /=  NUM_EVAL_BATCHES\n",
        "    return eval_loss\n",
        "\n",
        "def train(model: Transformer, optim, criterion, model_name):\n",
        "    print(\"Starting to train\")\n",
        "    model.train()\n",
        "    ep_loss = []\n",
        "    ep_eval_loss = []\n",
        "    temp_loss = []\n",
        "    eps = []\n",
        "    for ep in range(1, EP + 1):\n",
        "        np.random.shuffle(train_data_indices)\n",
        "        train_loader = get_batch(train_data_indices)\n",
        "\n",
        "        data = train_loader.__next__()\n",
        "        x, y = np.array(data[:, 0]), np.array(data[:, 1])\n",
        "        # print(data.shape)\n",
        "        # print(x.shape)\n",
        "        # print(y.shape)\n",
        "        x = torch.tensor(np.array([x[i] for i in range(len(x))])).long()\n",
        "        y = torch.tensor(np.array([y[i] for i in range(len(y))])).long()\n",
        "        # print(data)\n",
        "        # print(x.size())\n",
        "        # print(y.size())\n",
        "\n",
        "        x = x.to(device)\n",
        "        y, gold = map(lambda x: x.to(device), patch_trg(y))\n",
        "        y = y.to(device)\n",
        "\n",
        "        loss, true_summary, pred_summary = one_pass(x, y, gold, model, optim, criterion)\n",
        "\n",
        "        temp_loss.append(loss.item() / BATCH_SIZE)\n",
        "\n",
        "        if ep % PRINT_EVERY_EP == 0 and ep > 0:\n",
        "            eval_loss = one_pass_eval(model, criterion)\n",
        "            ep_loss.append(sum(temp_loss)/len(temp_loss))\n",
        "            ep_eval_loss.append(eval_loss)\n",
        "            eps.append(ep)\n",
        "            temp_loss = []\n",
        "\n",
        "\n",
        "        '''if ep % SAVE_MODEL_EVERY_EP == 0 and ep > 0:\n",
        "            torch.save({\n",
        "            'epoch': ep,\n",
        "            'model': model.state_dict(),\n",
        "            'loss': loss\n",
        "            }, f'{drive_prefix}models/{model_name}/checkpoint_{ep}')'''\n",
        "\n",
        "    return model, ep_loss, ep_eval_loss, eps\n",
        "\n",
        "def predict(model, X):\n",
        "    model.eval()\n",
        "\n",
        "    pred_summaries = []\n",
        "    true_summaries = []\n",
        "\n",
        "    for i in range(0, X.shape[0]):\n",
        "      x, y = np.array(X[i:i+1, 0]), np.array(X[i:i+1, 1])\n",
        "      x = torch.tensor(np.array([x[i] for i in range(len(x))])).long()\n",
        "      y = torch.tensor(np.array([y[i] for i in range(len(y))])).long()\n",
        "\n",
        "      x = x.to(device)\n",
        "      y, gold = map(lambda x: x.to(device), patch_trg(y))\n",
        "      y = y.to(device)\n",
        "\n",
        "      with torch.no_grad():\n",
        "          y_hat = model.forward(x, y)\n",
        "\n",
        "          pred = y_hat.max(1)[1]\n",
        "          pred_summary = ' '.join(_construct_summary(pred, full_idx_word_dict)[1:-1])\n",
        "          true_summary = ' '.join(_construct_summary(y.contiguous().view(-1), full_idx_word_dict)[1:-1])\n",
        "          pred_summaries.append(pred_summary)\n",
        "          true_summaries.append(true_summary)\n",
        "\n",
        "    return pred_summaries, true_summaries"
      ],
      "execution_count": null,
      "outputs": [
        {
          "output_type": "display_data",
          "data": {
            "text/plain": [
              "<IPython.core.display.HTML object>"
            ],
            "text/html": [
              "\n",
              "  <style>\n",
              "    pre {\n",
              "        white-space: pre-wrap;\n",
              "    }\n",
              "  </style>\n",
              "  "
            ]
          },
          "metadata": {}
        }
      ]
    },
    {
      "cell_type": "markdown",
      "metadata": {
        "id": "bkmtX6K2y6-e"
      },
      "source": [
        "# Evaluation Metrics"
      ]
    },
    {
      "cell_type": "code",
      "metadata": {
        "colab": {
          "base_uri": "https://localhost:8080/",
          "height": 17
        },
        "id": "H5rIr246y59g",
        "outputId": "52c41043-3aa6-4300-99d9-fb6e742a40b7"
      },
      "source": [
        "def compute_rouge(pred_summaries, true_summaries):\n",
        "  from rouge_score import rouge_scorer\n",
        "  scorer = rouge_scorer.RougeScorer(['rouge1', 'rougeL'], use_stemmer=True)\n",
        "  rogue1_precision = []\n",
        "  rogue1_recall = []\n",
        "  rogue1_fmeasure = []\n",
        "  rogueL_precision = []\n",
        "  rogueL_recall = []\n",
        "  rogueL_fmeasure = []\n",
        "  for i in range(len(pred_summaries)):\n",
        "    score = scorer.score(pred_summaries[i], true_summaries[i])\n",
        "    rogue1_precision.append(score['rouge1'].precision)\n",
        "    rogue1_recall.append(score['rouge1'].recall)\n",
        "    rogue1_fmeasure.append(score['rouge1'].fmeasure)\n",
        "    rogueL_precision.append(score['rougeL'].precision)\n",
        "    rogueL_recall.append(score['rougeL'].recall)\n",
        "    rogueL_fmeasure.append(score['rougeL'].fmeasure)\n",
        "\n",
        "  scores = {'rogue1_precision':rogue1_precision, 'rogue1_recall':rogue1_recall, 'rogue1_fmeasure': rogue1_fmeasure, 'rogueL_precision':rogueL_precision, 'rogueL_recall':rogueL_recall, 'rogueL_fmeasure': rogueL_fmeasure }\n",
        "  return scores"
      ],
      "execution_count": null,
      "outputs": [
        {
          "output_type": "display_data",
          "data": {
            "text/plain": [
              "<IPython.core.display.HTML object>"
            ],
            "text/html": [
              "\n",
              "  <style>\n",
              "    pre {\n",
              "        white-space: pre-wrap;\n",
              "    }\n",
              "  </style>\n",
              "  "
            ]
          },
          "metadata": {}
        }
      ]
    },
    {
      "cell_type": "code",
      "metadata": {
        "colab": {
          "base_uri": "https://localhost:8080/",
          "height": 17
        },
        "id": "DP-nVaVRzBvP",
        "outputId": "0f4cbbe2-c3a3-48d3-9a52-d5ed254e97df"
      },
      "source": [
        "def plot_rogue(scores, label_text):\n",
        "  from matplotlib import pyplot as plt\n",
        "  import pandas as pd\n",
        "  import seaborn as sns\n",
        "  for measure in scores.keys():\n",
        "    df = pd.DataFrame({\"score\":scores['rogue1_precision'] , \"dummy\": range(len(scores['rogue1_precision']))})\n",
        "    sns.set_style(\"whitegrid\")\n",
        "    f, (ax_box, ax_hist) = plt.subplots(2, sharex=True, gridspec_kw= {\"height_ratios\": (0.2, 1)})\n",
        "    f.set_size_inches(11.7, 8.27)\n",
        "    mean=df['score'].mean()\n",
        "    median=df['score'].median()\n",
        "    mode=df['score'].mode()[0]\n",
        "\n",
        "    sns.boxplot(df[\"score\"], ax=ax_box)\n",
        "    ax_box.axvline(mean, color='r', linestyle='--')\n",
        "    ax_box.axvline(median, color='g', linestyle='-')\n",
        "    ax_box.axvline(mode, color='b', linestyle='-')\n",
        "\n",
        "    sns.distplot(df[\"score\"], ax=ax_hist)\n",
        "    ax_hist.axvline(mean, color='r', linestyle='--')\n",
        "    ax_hist.axvline(median, color='g', linestyle='-')\n",
        "    ax_hist.axvline(mode, color='b', linestyle='-')\n",
        "\n",
        "    plt.legend({'Mean':mean,'Median':median,'Mode':mode})\n",
        "    plt.title(measure + f'{measure} {label_text}')\n",
        "    ax_box.set(xlabel='')\n",
        "    plt.show()"
      ],
      "execution_count": null,
      "outputs": [
        {
          "output_type": "display_data",
          "data": {
            "text/plain": [
              "<IPython.core.display.HTML object>"
            ],
            "text/html": [
              "\n",
              "  <style>\n",
              "    pre {\n",
              "        white-space: pre-wrap;\n",
              "    }\n",
              "  </style>\n",
              "  "
            ]
          },
          "metadata": {}
        }
      ]
    },
    {
      "cell_type": "code",
      "metadata": {
        "colab": {
          "base_uri": "https://localhost:8080/",
          "height": 17
        },
        "id": "E9dWeDps0J0M",
        "outputId": "404a1ae3-2d4b-40a1-c13b-0daf690a1294"
      },
      "source": [
        "def compute_rouge_summary_stats(scores):\n",
        "  def mean_confidence_interval(data, confidence=0.95):\n",
        "    import scipy.stats\n",
        "    a = 1.0 * np.array(data)\n",
        "    n = len(a)\n",
        "    m, se = np.mean(a), scipy.stats.sem(a)\n",
        "    h = se * scipy.stats.t.ppf((1 + confidence) / 2., n-1)\n",
        "    return m, m-h, m+h\n",
        "  stats = {}\n",
        "  for key in scores.keys():\n",
        "    stats[key] = mean_confidence_interval(scores[key])\n",
        "  return stats"
      ],
      "execution_count": null,
      "outputs": [
        {
          "output_type": "display_data",
          "data": {
            "text/plain": [
              "<IPython.core.display.HTML object>"
            ],
            "text/html": [
              "\n",
              "  <style>\n",
              "    pre {\n",
              "        white-space: pre-wrap;\n",
              "    }\n",
              "  </style>\n",
              "  "
            ]
          },
          "metadata": {}
        }
      ]
    },
    {
      "cell_type": "code",
      "metadata": {
        "colab": {
          "base_uri": "https://localhost:8080/",
          "height": 17
        },
        "id": "gSL3lk3s0abM",
        "outputId": "c9fd82cd-b9e8-4973-ab27-25388ee30f16"
      },
      "source": [
        "def plot_losses(ep_loss, ep_eval_loss, eps):\n",
        "  import matplotlib.pyplot as plt\n",
        "  import matplotlib.ticker as ticker\n",
        "  plt.plot(eps, ep_loss, label = 'train')\n",
        "  plt.plot(eps, ep_eval_loss, label = 'val')\n",
        "  plt.legend()\n",
        "  plt.xlabel('Epoch')\n",
        "  plt.ylabel('Train Losses')\n",
        "  plt.title('Training Loss')\n",
        "  plt.show()"
      ],
      "execution_count": null,
      "outputs": [
        {
          "output_type": "display_data",
          "data": {
            "text/plain": [
              "<IPython.core.display.HTML object>"
            ],
            "text/html": [
              "\n",
              "  <style>\n",
              "    pre {\n",
              "        white-space: pre-wrap;\n",
              "    }\n",
              "  </style>\n",
              "  "
            ]
          },
          "metadata": {}
        }
      ]
    },
    {
      "cell_type": "code",
      "source": [
        "\n",
        "def patch_trg(trg):\n",
        "\n",
        "    # print(trg)\n",
        "    # print(trg[:, :-1], trg[:, 1:].contiguous().view(-1))\n",
        "    trg, gold = trg[:, :-1], trg[:, 1:].contiguous().view(-1)\n",
        "    return trg, gold\n"
      ],
      "metadata": {
        "id": "Bk_mqJAqJ7u_",
        "outputId": "17bb7b00-569c-49fd-bd0f-e26904d758f2",
        "colab": {
          "base_uri": "https://localhost:8080/",
          "height": 17
        }
      },
      "execution_count": null,
      "outputs": [
        {
          "output_type": "display_data",
          "data": {
            "text/plain": [
              "<IPython.core.display.HTML object>"
            ],
            "text/html": [
              "\n",
              "  <style>\n",
              "    pre {\n",
              "        white-space: pre-wrap;\n",
              "    }\n",
              "  </style>\n",
              "  "
            ]
          },
          "metadata": {}
        }
      ]
    },
    {
      "cell_type": "code",
      "source": [
        "len(train_data_indices[0][0])"
      ],
      "metadata": {
        "id": "RbMhzoxSOLZx",
        "outputId": "d4c5bd87-ac85-4077-ea69-8103c2730c72",
        "colab": {
          "base_uri": "https://localhost:8080/",
          "height": 35
        }
      },
      "execution_count": null,
      "outputs": [
        {
          "output_type": "display_data",
          "data": {
            "text/plain": [
              "<IPython.core.display.HTML object>"
            ],
            "text/html": [
              "\n",
              "  <style>\n",
              "    pre {\n",
              "        white-space: pre-wrap;\n",
              "    }\n",
              "  </style>\n",
              "  "
            ]
          },
          "metadata": {}
        },
        {
          "output_type": "execute_result",
          "data": {
            "text/plain": [
              "300"
            ]
          },
          "metadata": {},
          "execution_count": 115
        }
      ]
    },
    {
      "cell_type": "markdown",
      "metadata": {
        "id": "wI1lhtuKqH7X"
      },
      "source": [
        "## Run\n"
      ]
    },
    {
      "cell_type": "code",
      "source": [
        "model_name = 'customtransformers'\n",
        "transformer = Transformer(num_heads=NUM_HEADS,\n",
        "                          word_vector=full_word_vector,\n",
        "                          word_idx_dict=full_word_idx_dict,\n",
        "                          idx_word_dict=full_idx_word_dict).to(device)\n",
        "\n",
        "# model_optim = optim.Adam(transformer.parameters(), lr=LR)\n",
        "\n",
        "model_optim = ScheduledOptim(\n",
        "        optim.Adam(transformer.parameters(), betas=(0.9, 0.98), eps=1e-09),\n",
        "        2.0, EMB_SIZE, 3000)\n",
        "\n",
        "criterion = nn.CrossEntropyLoss(ignore_index=full_word_idx_dict[PAD_CHAR], reduction='sum')\n",
        "\n",
        "model, ep_loss, ep_eval_loss, eps = train(transformer, model_optim, criterion, model_name)"
      ],
      "metadata": {
        "id": "qHDQg1vD7Jkm"
      },
      "execution_count": null,
      "outputs": []
    },
    {
      "cell_type": "markdown",
      "source": [
        "# Hyperparameters"
      ],
      "metadata": {
        "id": "TkpD_BJIVAn2"
      }
    },
    {
      "cell_type": "code",
      "source": [
        "#Hyperparameters\n",
        "print(f'EMB_SIZE : {EMB_SIZE}')\n",
        "print(f'BATCH_SIZE : {BATCH_SIZE}')\n",
        "print(f'NUM_EVAL_BATCHES : {NUM_EVAL_BATCHES}')\n",
        "print(f'NUM_HEADS : {NUM_HEADS}')\n",
        "print(f'DROPOUT_RATE : {DROPOUT_RATE}')\n",
        "print(f'MAX_ARTICLE_LEN : {MAX_ARTICLE_LEN}')\n",
        "print(f'MAX_LABEL_LEN : {MAX_LABEL_LEN}')\n",
        "print(f'E_HIDDEN_DIM : {E_HIDDEN_DIM}')\n",
        "print(f'D_HIDDEN_DIM : {D_HIDDEN_DIM}')\n",
        "print(f'KEY_DIM : {KEY_DIM}')\n",
        "print(f'VALUE_DIM : {VALUE_DIM}')\n",
        "print(f'FORCE_CREATE_DICT : {FORCE_CREATE_DICT}')"
      ],
      "metadata": {
        "id": "1Bv7zZoJVDtQ"
      },
      "execution_count": null,
      "outputs": []
    },
    {
      "cell_type": "markdown",
      "metadata": {
        "id": "oGFp1vsH0rHs"
      },
      "source": [
        "## Plot training vs validation loss"
      ]
    },
    {
      "cell_type": "code",
      "metadata": {
        "id": "_uNhoCLW0pct",
        "colab": {
          "base_uri": "https://localhost:8080/",
          "height": 472
        },
        "outputId": "c9b86fe3-9ab5-4cb8-c263-df8605a8c59c"
      },
      "source": [
        "plot_losses(ep_loss, ep_eval_loss, eps)"
      ],
      "execution_count": null,
      "outputs": [
        {
          "output_type": "display_data",
          "data": {
            "text/plain": [
              "<IPython.core.display.HTML object>"
            ],
            "text/html": [
              "\n",
              "  <style>\n",
              "    pre {\n",
              "        white-space: pre-wrap;\n",
              "    }\n",
              "  </style>\n",
              "  "
            ]
          },
          "metadata": {}
        },
        {
          "output_type": "display_data",
          "data": {
            "text/plain": [
              "<Figure size 640x480 with 1 Axes>"
            ],
            "image/png": "[encoded data removed]"
          },
          "metadata": {}
        }
      ]
    },
    {
      "cell_type": "markdown",
      "metadata": {
        "id": "_0jeSAHc0vfn"
      },
      "source": [
        "## Compute training vs validation rouge scores"
      ]
    },
    {
      "cell_type": "code",
      "source": [
        "pred_summaries_train, true_summaries_train = predict(model, train_data_indices)\n",
        "pred_summaries_val, true_summaries_val = predict(model, val_data_indices)"
      ],
      "metadata": {
        "id": "b7OeQexk7EYS"
      },
      "execution_count": null,
      "outputs": []
    },
    {
      "cell_type": "code",
      "metadata": {
        "id": "x-kMyz1m1Y9K",
        "colab": {
          "base_uri": "https://localhost:8080/",
          "height": 17
        },
        "outputId": "ec3ab053-ea71-4337-9762-b500f72fca59"
      },
      "source": [
        "scores_train =  compute_rouge(pred_summaries_train, true_summaries_train)\n",
        "scores_val  = compute_rouge(pred_summaries_val, true_summaries_val)"
      ],
      "execution_count": null,
      "outputs": [
        {
          "output_type": "display_data",
          "data": {
            "text/plain": [
              "<IPython.core.display.HTML object>"
            ],
            "text/html": [
              "\n",
              "  <style>\n",
              "    pre {\n",
              "        white-space: pre-wrap;\n",
              "    }\n",
              "  </style>\n",
              "  "
            ]
          },
          "metadata": {}
        }
      ]
    },
    {
      "cell_type": "markdown",
      "metadata": {
        "id": "uORi6W3F11sy"
      },
      "source": [
        "##  Rouge scores Training"
      ]
    },
    {
      "cell_type": "code",
      "metadata": {
        "id": "4Llrnv9_1yn0",
        "colab": {
          "base_uri": "https://localhost:8080/",
          "height": 303
        },
        "outputId": "9decf176-c689-4772-b4f5-f6731aed2258"
      },
      "source": [
        "compute_rouge_summary_stats(scores_train)"
      ],
      "execution_count": null,
      "outputs": [
        {
          "output_type": "display_data",
          "data": {
            "text/plain": [
              "<IPython.core.display.HTML object>"
            ],
            "text/html": [
              "\n",
              "  <style>\n",
              "    pre {\n",
              "        white-space: pre-wrap;\n",
              "    }\n",
              "  </style>\n",
              "  "
            ]
          },
          "metadata": {}
        },
        {
          "output_type": "execute_result",
          "data": {
            "text/plain": [
              "{'rogue1_precision': (0.3525736696950816,\n",
              "  0.3517959245235172,\n",
              "  0.35335141486664595),\n",
              " 'rogue1_recall': (0.3525736696950816,\n",
              "  0.3517959245235172,\n",
              "  0.35335141486664595),\n",
              " 'rogue1_fmeasure': (0.3525736696950816,\n",
              "  0.3517959245235172,\n",
              "  0.35335141486664595),\n",
              " 'rogueL_precision': (0.2813920324190128,\n",
              "  0.2807105100795196,\n",
              "  0.282073554758506),\n",
              " 'rogueL_recall': (0.2813920324190128, 0.2807105100795196, 0.282073554758506),\n",
              " 'rogueL_fmeasure': (0.2813920324190128,\n",
              "  0.2807105100795196,\n",
              "  0.282073554758506)}"
            ]
          },
          "metadata": {},
          "execution_count": 121
        }
      ]
    },
    {
      "cell_type": "markdown",
      "metadata": {
        "id": "OtCLukw_19hR"
      },
      "source": [
        "## Rouge Scores Validation"
      ]
    },
    {
      "cell_type": "code",
      "metadata": {
        "id": "JS_w0dxw2CLK",
        "colab": {
          "base_uri": "https://localhost:8080/",
          "height": 338
        },
        "outputId": "2529b1f3-1b0f-451d-8b7b-1f39c4be33de"
      },
      "source": [
        "compute_rouge_summary_stats(scores_val)"
      ],
      "execution_count": null,
      "outputs": [
        {
          "output_type": "display_data",
          "data": {
            "text/plain": [
              "<IPython.core.display.HTML object>"
            ],
            "text/html": [
              "\n",
              "  <style>\n",
              "    pre {\n",
              "        white-space: pre-wrap;\n",
              "    }\n",
              "  </style>\n",
              "  "
            ]
          },
          "metadata": {}
        },
        {
          "output_type": "execute_result",
          "data": {
            "text/plain": [
              "{'rogue1_precision': (0.3072103622387896,\n",
              "  0.3060759200075915,\n",
              "  0.30834480446998774),\n",
              " 'rogue1_recall': (0.3072103622387896,\n",
              "  0.3060759200075915,\n",
              "  0.30834480446998774),\n",
              " 'rogue1_fmeasure': (0.3072103622387896,\n",
              "  0.3060759200075915,\n",
              "  0.30834480446998774),\n",
              " 'rogueL_precision': (0.23593382187082484,\n",
              "  0.23498998761580395,\n",
              "  0.23687765612584574),\n",
              " 'rogueL_recall': (0.23593382187082484,\n",
              "  0.23498998761580395,\n",
              "  0.23687765612584574),\n",
              " 'rogueL_fmeasure': (0.23593382187082484,\n",
              "  0.23498998761580395,\n",
              "  0.23687765612584574)}"
            ]
          },
          "metadata": {},
          "execution_count": 122
        }
      ]
    },
    {
      "cell_type": "code",
      "metadata": {
        "id": "T1XAu5Lrg4jx"
      },
      "source": [],
      "execution_count": null,
      "outputs": []
    }
  ]
}
